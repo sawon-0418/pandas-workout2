{
 "cells": [
  {
   "cell_type": "code",
   "execution_count": 81,
   "metadata": {},
   "outputs": [],
   "source": [
    "import numpy as np\n",
    "import pandas as pd\n",
    "from pandas import Series, DataFrame\n",
    "\n",
    "s = pd.read_csv('../data/nyc-temps.txt').squeeze()\n",
    "df = DataFrame({'temp': s, \n",
    "                'hour': [0,3,6,9,12,15,18,21] * 91})\n",
    "\n",
    "df.loc[(df['hour'] == 3) | (df['hour'] == 6), 'temp'] = np.nan\n",
    "#3시와 6시 온도를 결측치로 변경.\n",
    "#df.loc를 사용해 df['hour']의 값이 3 또는 6인 행의 'temp' 열을 선택하고, 해당 위치에 np.nan을 할당.\n"
   ]
  },
  {
   "cell_type": "markdown",
   "metadata": {},
   "source": [
    "# Beyond 1\n",
    "\n",
    "By default, the `interpolate` method tries to average the remaining values before and after any `NaN`. However, we can change how it works, by passing `method='nearest'`. Does that change our data substantially?\n",
    "\n",
    "기본적으로 interpolate 메서드는 NaN 앞뒤의 남은 값들을 평균내어 결측치를 채웁니다. 그러나 `method='nearest'`를 전달하면 보간 방식이 변경됩니다. 이것이 우리의 데이터에 실질적인 변화를 주나요?\n",
    "\n",
    "\n",
    "method (보간 방식)에는 아래와 같이 존재  \n",
    "'linear' (기본값): 앞뒤 값을 직선으로 연결해서 채움  \n",
    "'time': 인덱스가 datetime이면 시간 간격에 맞게 보간  \n",
    "'nearest': 가장 가까운 실제 값으로 채움  \n",
    "'polynomial': 다항식 보간 (order 지정 필요)  \n",
    "'spline': 스플라인 보간  \n",
    "'pad' / 'ffill': 결측을 앞 값으로 채움  \n",
    "'backfill' / 'bfill': 결측을 뒤 값으로 채움  "
   ]
  },
  {
   "cell_type": "code",
   "execution_count": 82,
   "metadata": {},
   "outputs": [
    {
     "data": {
      "text/html": [
       "<div>\n",
       "<style scoped>\n",
       "    .dataframe tbody tr th:only-of-type {\n",
       "        vertical-align: middle;\n",
       "    }\n",
       "\n",
       "    .dataframe tbody tr th {\n",
       "        vertical-align: top;\n",
       "    }\n",
       "\n",
       "    .dataframe thead th {\n",
       "        text-align: right;\n",
       "    }\n",
       "</style>\n",
       "<table border=\"1\" class=\"dataframe\">\n",
       "  <thead>\n",
       "    <tr style=\"text-align: right;\">\n",
       "      <th></th>\n",
       "      <th>temp</th>\n",
       "      <th>hour</th>\n",
       "    </tr>\n",
       "  </thead>\n",
       "  <tbody>\n",
       "    <tr>\n",
       "      <th>count</th>\n",
       "      <td>728.000000</td>\n",
       "      <td>728.000000</td>\n",
       "    </tr>\n",
       "    <tr>\n",
       "      <th>mean</th>\n",
       "      <td>-1.050824</td>\n",
       "      <td>10.500000</td>\n",
       "    </tr>\n",
       "    <tr>\n",
       "      <th>std</th>\n",
       "      <td>5.026357</td>\n",
       "      <td>6.878589</td>\n",
       "    </tr>\n",
       "    <tr>\n",
       "      <th>min</th>\n",
       "      <td>-14.000000</td>\n",
       "      <td>0.000000</td>\n",
       "    </tr>\n",
       "    <tr>\n",
       "      <th>25%</th>\n",
       "      <td>-4.000000</td>\n",
       "      <td>5.250000</td>\n",
       "    </tr>\n",
       "    <tr>\n",
       "      <th>50%</th>\n",
       "      <td>0.000000</td>\n",
       "      <td>10.500000</td>\n",
       "    </tr>\n",
       "    <tr>\n",
       "      <th>75%</th>\n",
       "      <td>2.000000</td>\n",
       "      <td>15.750000</td>\n",
       "    </tr>\n",
       "    <tr>\n",
       "      <th>max</th>\n",
       "      <td>12.000000</td>\n",
       "      <td>21.000000</td>\n",
       "    </tr>\n",
       "  </tbody>\n",
       "</table>\n",
       "</div>"
      ],
      "text/plain": [
       "             temp        hour\n",
       "count  728.000000  728.000000\n",
       "mean    -1.050824   10.500000\n",
       "std      5.026357    6.878589\n",
       "min    -14.000000    0.000000\n",
       "25%     -4.000000    5.250000\n",
       "50%      0.000000   10.500000\n",
       "75%      2.000000   15.750000\n",
       "max     12.000000   21.000000"
      ]
     },
     "execution_count": 82,
     "metadata": {},
     "output_type": "execute_result"
    }
   ],
   "source": [
    "# No, doesn't seem to change things significantly -- maybe because temperatures\n",
    "# don't really vary all that much across readings.\n",
    "\n",
    "df.interpolate(method='nearest').describe()\n",
    "#nearest 방법을 사용하여 결측치를 보간하고, 결과의 기술 통계량을 계산.\n",
    "\n",
    "#아래의 결과는 원본 데이터의 describe() 결과임\n",
    "# count    728.000000\n",
    "# mean      -1.050824\n",
    "# std        5.026357\n",
    "# min      -14.000000\n",
    "# 25%       -4.000000\n",
    "# 50%        0.000000\n",
    "# 75%        2.000000\n",
    "# max       12.000000\n",
    "\n",
    "#nearest 방법을 사용한 보간 결과의 describe() 결과는 원본과 동일함"
   ]
  },
  {
   "cell_type": "markdown",
   "metadata": {},
   "source": [
    "# Beyond 2\n",
    "\n",
    "Let's assume that the equipment works fine around the clock, but that it fails to record a reading at -1 degree and below. Are the interpolated values similar to the real (missing) values they replace? Why or why not?\n",
    "\n",
    "장비가 24시간 정상 작동한다고 가정하되, -1도 이하에서는 측정값을 기록하지 못한다고 합시다. 보간(interpolate)으로 채워진 값들은 실제(결측된) 값들과 유사한가요? 그렇다면/아니라면 그 이유는 무엇인가요?"
   ]
  },
  {
   "cell_type": "code",
   "execution_count": 83,
   "metadata": {},
   "outputs": [],
   "source": [
    "# reset our data\n",
    "df = DataFrame({'temp': s, \n",
    "                'hour': [0,3,6,9,12,15,18,21] * 91})\n",
    "\n",
    "#데이터프레임을 다시 생성해 원본 상태로 되돌림"
   ]
  },
  {
   "cell_type": "code",
   "execution_count": 84,
   "metadata": {},
   "outputs": [],
   "source": [
    "# Remove values <= -1 to NaN\n",
    "df.loc[df['temp'] <= -1, 'temp'] = np.nan\n",
    "# 온도가 -1 이하인 값을 결측치로 변경\n"
   ]
  },
  {
   "cell_type": "code",
   "execution_count": 85,
   "metadata": {},
   "outputs": [],
   "source": [
    "# Interpolate!\n",
    "df = df.interpolate()\n",
    "#선형보간 수행"
   ]
  },
  {
   "cell_type": "code",
   "execution_count": 86,
   "metadata": {
    "scrolled": true
   },
   "outputs": [
    {
     "data": {
      "text/plain": [
       "count    721.000000\n",
       "mean       2.022191\n",
       "std        2.345483\n",
       "min        0.000000\n",
       "25%        0.209524\n",
       "50%        1.000000\n",
       "75%        3.000000\n",
       "max       12.000000\n",
       "Name: temp, dtype: float64"
      ]
     },
     "execution_count": 86,
     "metadata": {},
     "output_type": "execute_result"
    }
   ],
   "source": [
    "# Wow, the mean is now 2 and the median is now 1 -- significantly higher\n",
    "# Not surprising, of course, given that we removed all very low temperatures!\n",
    "df['temp'].describe()\n",
    "#7개의 데이터가 결측치로 변경된 후 선형 보간이 수행됨.\n",
    "\n",
    "#원본 describe()\n",
    "# count    728.000000\n",
    "# mean      -1.050824\n",
    "# std        5.026357\n",
    "# min      -14.000000\n",
    "# 25%       -4.000000\n",
    "# 50%        0.000000\n",
    "# 75%        2.000000\n",
    "# max       12.000000\n",
    "\n",
    "#결측치 처리 후 describe() 결과는 평균 2.02, 중앙값 1로 바뀐것을 볼 수 있음.\n",
    "#놀랄게 아니라 당연히 낮은 온도들이 제거되었기 때문."
   ]
  },
  {
   "cell_type": "markdown",
   "metadata": {},
   "source": [
    "# Beyond 3\n",
    "\n",
    "A cheap solution to interpolation is to replace `NaN` values with the column's mean. Do this, and compare the new mean and median. Again, why are (or aren't) these values similar to the original ones?\n",
    "\n",
    "\n",
    "보간(interpolation)의 간단한 해결책으로는 `NaN` 값을 해당 열의 평균으로 대체하는 방법이 있습니다. 이를 수행한 다음 새 평균과 중앙값을 비교하세요. 다시 말하지만, 이 값들이 원래 값들과 유사한지(혹은 그렇지 않은지) 그리고 그 이유는 무엇인지 설명하세요.\n"
   ]
  },
  {
   "cell_type": "code",
   "execution_count": 87,
   "metadata": {},
   "outputs": [],
   "source": [
    "# reset our data\n",
    "df = DataFrame({'temp': s, \n",
    "                'hour': [0,3,6,9,12,15,18,21] * 91})\n",
    "\n",
    "# Remove values <= -1 to NaN\n",
    "df.loc[df['temp'] <= -1, 'temp'] = np.nan\n",
    "\n",
    "df = df.fillna(df.mean())\n",
    "#결측치를 평균값으로 대체"
   ]
  },
  {
   "cell_type": "code",
   "execution_count": 88,
   "metadata": {},
   "outputs": [
    {
     "data": {
      "text/html": [
       "<div>\n",
       "<style scoped>\n",
       "    .dataframe tbody tr th:only-of-type {\n",
       "        vertical-align: middle;\n",
       "    }\n",
       "\n",
       "    .dataframe tbody tr th {\n",
       "        vertical-align: top;\n",
       "    }\n",
       "\n",
       "    .dataframe thead th {\n",
       "        text-align: right;\n",
       "    }\n",
       "</style>\n",
       "<table border=\"1\" class=\"dataframe\">\n",
       "  <thead>\n",
       "    <tr style=\"text-align: right;\">\n",
       "      <th></th>\n",
       "      <th>temp</th>\n",
       "      <th>hour</th>\n",
       "    </tr>\n",
       "  </thead>\n",
       "  <tbody>\n",
       "    <tr>\n",
       "      <th>count</th>\n",
       "      <td>728.000000</td>\n",
       "      <td>728.000000</td>\n",
       "    </tr>\n",
       "    <tr>\n",
       "      <th>mean</th>\n",
       "      <td>2.763926</td>\n",
       "      <td>10.500000</td>\n",
       "    </tr>\n",
       "    <tr>\n",
       "      <th>std</th>\n",
       "      <td>1.935689</td>\n",
       "      <td>6.878589</td>\n",
       "    </tr>\n",
       "    <tr>\n",
       "      <th>min</th>\n",
       "      <td>0.000000</td>\n",
       "      <td>0.000000</td>\n",
       "    </tr>\n",
       "    <tr>\n",
       "      <th>25%</th>\n",
       "      <td>2.000000</td>\n",
       "      <td>5.250000</td>\n",
       "    </tr>\n",
       "    <tr>\n",
       "      <th>50%</th>\n",
       "      <td>2.763926</td>\n",
       "      <td>10.500000</td>\n",
       "    </tr>\n",
       "    <tr>\n",
       "      <th>75%</th>\n",
       "      <td>2.763926</td>\n",
       "      <td>15.750000</td>\n",
       "    </tr>\n",
       "    <tr>\n",
       "      <th>max</th>\n",
       "      <td>12.000000</td>\n",
       "      <td>21.000000</td>\n",
       "    </tr>\n",
       "  </tbody>\n",
       "</table>\n",
       "</div>"
      ],
      "text/plain": [
       "             temp        hour\n",
       "count  728.000000  728.000000\n",
       "mean     2.763926   10.500000\n",
       "std      1.935689    6.878589\n",
       "min      0.000000    0.000000\n",
       "25%      2.000000    5.250000\n",
       "50%      2.763926   10.500000\n",
       "75%      2.763926   15.750000\n",
       "max     12.000000   21.000000"
      ]
     },
     "execution_count": 88,
     "metadata": {},
     "output_type": "execute_result"
    }
   ],
   "source": [
    "# Wow, these values are even worse than the interpolated ones!\n",
    "\n",
    "# Clearly, running .interpolate is a better option than using the mean -- \n",
    "# in no small part because it calculated a local mean, rather than\n",
    "# a global one across all of the data.\n",
    "# 와, 이 값들은 보간된 값들보다도 오히려 더 좋지 않습니다!\n",
    "# 분명히 `.interpolate`를 실행하는 것이 평균(mean)으로 대체하는 것보다 더 나은 선택입니다 \n",
    "# — 그 주요 이유 중 하나는 `.interpolate`가 전체 데이터에 걸친 전역 평균이 아니라 주변(국소) 값들을 바탕으로 평균을 계산하기 때문입니다.\n",
    "\n",
    "df.describe()\n",
    "#결측치를 평균값으로 대체한 후의 describe() 결과\n",
    "\n",
    "\n",
    "#원본 describe()\n",
    "# count    728.000000\n",
    "# mean      -1.050824\n",
    "# std        5.026357\n",
    "# min      -14.000000\n",
    "# 25%       -4.000000\n",
    "# 50%        0.000000\n",
    "# 75%        2.000000\n",
    "# max       12.000000\n",
    "\n",
    "\n",
    "#보간법이 평균 대체법보다 더 나은 이유는 결측치 주변의 값들을 고려하여 구하는데,\n",
    "#이 데이터의 경우 뉴욕의 3달치 시간별 온도이므로, 주변 값들의 데이터와 유사한 값을 가지기에\n",
    "#3달 전체의 평균을 대체하는 것보다 더 적절한 값을 가지게 됨."
   ]
  },
  {
   "cell_type": "code",
   "execution_count": null,
   "metadata": {},
   "outputs": [],
   "source": []
  }
 ],
 "metadata": {
  "kernelspec": {
   "display_name": "base",
   "language": "python",
   "name": "python3"
  },
  "language_info": {
   "codemirror_mode": {
    "name": "ipython",
    "version": 3
   },
   "file_extension": ".py",
   "mimetype": "text/x-python",
   "name": "python",
   "nbconvert_exporter": "python",
   "pygments_lexer": "ipython3",
   "version": "3.13.5"
  }
 },
 "nbformat": 4,
 "nbformat_minor": 4
}
