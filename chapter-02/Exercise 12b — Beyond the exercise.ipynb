{
 "cells": [
  {
   "cell_type": "code",
   "execution_count": 1,
   "metadata": {},
   "outputs": [],
   "source": [
    "import pandas as pd\n",
    "from pandas import Series, DataFrame\n",
    "\n",
    "trip_distance = pd.read_csv('../data/taxi-distance.csv', header=None).squeeze()\n",
    "passenger_count = pd.read_csv('../data/taxi-passenger-count.csv', header=None).squeeze()\n",
    "\n",
    "df = DataFrame({'trip_distance': trip_distance,\n",
    "                'passenger_count': passenger_count})"
   ]
  },
  {
   "cell_type": "markdown",
   "metadata": {},
   "source": [
    "# Beyond 1\n",
    "\n",
    "If we define outliers to be the lowest 10% and highest 10% of values, then how many are they? Why is (or isn't) this a good measure?\n",
    "\n",
    "값들의 하위 10%와 상위 10%를 이상치로 정의하면, 그 개수는 얼마인가요? 이것이 좋은 기준인가요, 아니라면 그 이유는 무엇인가요?"
   ]
  },
  {
   "cell_type": "code",
   "execution_count": 2,
   "metadata": {
    "scrolled": true
   },
   "outputs": [
    {
     "data": {
      "text/html": [
       "<div>\n",
       "<style scoped>\n",
       "    .dataframe tbody tr th:only-of-type {\n",
       "        vertical-align: middle;\n",
       "    }\n",
       "\n",
       "    .dataframe tbody tr th {\n",
       "        vertical-align: top;\n",
       "    }\n",
       "\n",
       "    .dataframe thead th {\n",
       "        text-align: right;\n",
       "    }\n",
       "</style>\n",
       "<table border=\"1\" class=\"dataframe\">\n",
       "  <thead>\n",
       "    <tr style=\"text-align: right;\">\n",
       "      <th></th>\n",
       "      <th>trip_distance</th>\n",
       "      <th>passenger_count</th>\n",
       "    </tr>\n",
       "  </thead>\n",
       "  <tbody>\n",
       "    <tr>\n",
       "      <th>1</th>\n",
       "      <td>0.46</td>\n",
       "      <td>1</td>\n",
       "    </tr>\n",
       "    <tr>\n",
       "      <th>7</th>\n",
       "      <td>11.90</td>\n",
       "      <td>4</td>\n",
       "    </tr>\n",
       "    <tr>\n",
       "      <th>9</th>\n",
       "      <td>0.60</td>\n",
       "      <td>1</td>\n",
       "    </tr>\n",
       "    <tr>\n",
       "      <th>10</th>\n",
       "      <td>0.01</td>\n",
       "      <td>3</td>\n",
       "    </tr>\n",
       "    <tr>\n",
       "      <th>13</th>\n",
       "      <td>0.50</td>\n",
       "      <td>2</td>\n",
       "    </tr>\n",
       "    <tr>\n",
       "      <th>...</th>\n",
       "      <td>...</td>\n",
       "      <td>...</td>\n",
       "    </tr>\n",
       "    <tr>\n",
       "      <th>9976</th>\n",
       "      <td>12.60</td>\n",
       "      <td>1</td>\n",
       "    </tr>\n",
       "    <tr>\n",
       "      <th>9978</th>\n",
       "      <td>0.38</td>\n",
       "      <td>1</td>\n",
       "    </tr>\n",
       "    <tr>\n",
       "      <th>9979</th>\n",
       "      <td>11.30</td>\n",
       "      <td>1</td>\n",
       "    </tr>\n",
       "    <tr>\n",
       "      <th>9980</th>\n",
       "      <td>9.13</td>\n",
       "      <td>1</td>\n",
       "    </tr>\n",
       "    <tr>\n",
       "      <th>9982</th>\n",
       "      <td>9.30</td>\n",
       "      <td>1</td>\n",
       "    </tr>\n",
       "  </tbody>\n",
       "</table>\n",
       "<p>1984 rows × 2 columns</p>\n",
       "</div>"
      ],
      "text/plain": [
       "      trip_distance  passenger_count\n",
       "1              0.46                1\n",
       "7             11.90                4\n",
       "9              0.60                1\n",
       "10             0.01                3\n",
       "13             0.50                2\n",
       "...             ...              ...\n",
       "9976          12.60                1\n",
       "9978           0.38                1\n",
       "9979          11.30                1\n",
       "9980           9.13                1\n",
       "9982           9.30                1\n",
       "\n",
       "[1984 rows x 2 columns]"
      ]
     },
     "execution_count": 2,
     "metadata": {},
     "output_type": "execute_result"
    }
   ],
   "source": [
    "df[(df['trip_distance'] < df['trip_distance'].quantile(0.1)) | \n",
    "   (df['trip_distance'] > df['trip_distance'].quantile(0.9)) ]\n",
    "#1984개의 행이 선택됨.\n",
    "\n",
    "#상위 10%와 하위 10%를 이상치로 간주할 경우엔 직관적이고 이해하기 쉽지만,\n",
    "#데이터가 이상치가 없음에도 상위 10%, 하위 10%를 이상치로 간주하게 되는 문제가 있다.\n"
   ]
  },
  {
   "cell_type": "markdown",
   "metadata": {},
   "source": [
    "The good news with this measure is that it's easy to understand. The bad news is that if we have many short trips (as we do here), we might end up calling them outliers even though they're very close in value to non-outliers.\n",
    "\n",
    "이 측정 방법의 장점은 이해하기 쉽다는 점입니다. 단점은(여기처럼) 짧은 여행들이 많은 경우, 실제로는 비이상치와 값이 거의 비슷함에도 불구하고 그것들을 이상치로 분류해버릴 수 있다는 점입니다."
   ]
  },
  {
   "cell_type": "markdown",
   "metadata": {},
   "source": [
    "# Beyond 2\n",
    "\n",
    "How many short, medium, and long trips were there for trips that had only one passenger? Note that data for passenger count and trip length are from the same data set, meaning that the indexes are the same.\n",
    "\n",
    "If we're only interested in removing the outlier values, then we could use the `scipy.stats.trimboth` function on our series. It takes a second argument, the proportion we want to cut from both the top and bottom.\n",
    "\n",
    "\n",
    "승객이 한 명인 여행들 중에서 짧은(short), 중간(medium), 긴(long) 여행이 각각 몇 건 있었나요? 승객 수와 여행 길이 데이터는 동일한 데이터 세트에서 나온 것이므로 인덱스가 같다는 점에 유의하세요.\n",
    "\n",
    "만약 이상치(outlier) 값만 제거하는 데 관심이 있다면, 시리즈에 `scipy.stats.trimboth` 함수를 사용할 수 있습니다. 이 함수는 두 번째 인수로 상단과 하단에서 잘라낼 비율을 받습니다.\n"
   ]
  },
  {
   "cell_type": "code",
   "execution_count": 3,
   "metadata": {},
   "outputs": [
    {
     "data": {
      "text/plain": [
       "array([0.63, 0.63, 0.63, ..., 8.2 , 8.2 , 8.2 ])"
      ]
     },
     "execution_count": 3,
     "metadata": {},
     "output_type": "execute_result"
    }
   ],
   "source": [
    "from scipy.stats import trimboth\n",
    "trimboth(df['trip_distance'], 0.1)\n",
    "#scipy.stats의 trimboth를 import해 사용\n",
    "#원래는 scipy.stats.trimboth(df['trip_distance'], 0.1)로 사용\n",
    "#상위 10%, 하위 10%를 제거한 나머지 값들을 반환\n",
    "#결과는 ndarray로 반환됨."
   ]
  },
  {
   "cell_type": "markdown",
   "metadata": {},
   "source": [
    "# Beyond 3\n",
    "\n",
    "The `scipy.stats.zscore` function rescales and centers (i.e., normalizes) our data set. Our mean is set to 0, values can be above and below that value. Find all of the distances for which the absolute value of the z-score is greater than 3.\n",
    "\n",
    "\n",
    "`scipy.stats.zscore` 함수는 데이터셋을 재스케일하고 중앙값을 0으로 맞추어 정규화합니다. 평균이 0으로 설정되므로 값들은 그 위나 아래에 위치할 수 있습니다. z-점수의 절대값이 3보다 큰 모든 거리(distance) 값을 찾아보세요."
   ]
  },
  {
   "cell_type": "code",
   "execution_count": 4,
   "metadata": {},
   "outputs": [
    {
     "data": {
      "text/plain": [
       "88      23.76\n",
       "238     18.32\n",
       "379     16.38\n",
       "509     16.82\n",
       "641     19.72\n",
       "        ...  \n",
       "9897    16.11\n",
       "9899    17.48\n",
       "9906    17.70\n",
       "9955    15.49\n",
       "9964    18.55\n",
       "Name: trip_distance, Length: 306, dtype: float64"
      ]
     },
     "execution_count": 4,
     "metadata": {},
     "output_type": "execute_result"
    }
   ],
   "source": [
    "from scipy.stats import zscore\n",
    "df['trip_distance'][abs(zscore(df['trip_distance'])) > 3]\n",
    "#zscore를 이용해 이상치를 탐색\n",
    "#평균에서 3표준편차 이상 떨어진 값을 이상치로 간주\n",
    "#결과는 Series로 반환됨.\n",
    "# trip_distance에서 평균보다 3표준편차 이상 떨어진 값을 이상치로 간주하여 선택"
   ]
  },
  {
   "cell_type": "code",
   "execution_count": null,
   "metadata": {},
   "outputs": [],
   "source": []
  }
 ],
 "metadata": {
  "kernelspec": {
   "display_name": "base",
   "language": "python",
   "name": "python3"
  },
  "language_info": {
   "codemirror_mode": {
    "name": "ipython",
    "version": 3
   },
   "file_extension": ".py",
   "mimetype": "text/x-python",
   "name": "python",
   "nbconvert_exporter": "python",
   "pygments_lexer": "ipython3",
   "version": "3.13.5"
  }
 },
 "nbformat": 4,
 "nbformat_minor": 4
}
