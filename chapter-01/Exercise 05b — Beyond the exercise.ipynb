{
 "cells": [
  {
   "cell_type": "code",
   "execution_count": 2,
   "metadata": {},
   "outputs": [],
   "source": [
    "import numpy as np\n",
    "import pandas as pd\n",
    "from pandas import Series, DataFrame\n",
    "\n",
    "days = 'Sun Mon Tue Wed Thu Fri Sat'.split()\n",
    "\n",
    "g = np.random.default_rng(0)\n",
    "s = Series(g.normal(20, 5, 28),\n",
    "          index=days*4).round().astype(np.int8)"
   ]
  },
  {
   "cell_type": "markdown",
   "metadata": {},
   "source": [
    "# Beyond 1\n",
    "\n",
    "What was the average temperature on weekends (i.e., Saturdays and Sundays)?\n",
    "\n",
    "주말(즉, 토요일과 일요일)의 평균 온도는 얼마였는가?"
   ]
  },
  {
   "cell_type": "code",
   "execution_count": 11,
   "metadata": {},
   "outputs": [
    {
     "data": {
      "text/plain": [
       "Sun    21\n",
       "Sun    25\n",
       "Sun    14\n",
       "Sun    27\n",
       "Sat    27\n",
       "Sat    19\n",
       "Sat    19\n",
       "Sat    15\n",
       "dtype: int8"
      ]
     },
     "execution_count": 11,
     "metadata": {},
     "output_type": "execute_result"
    }
   ],
   "source": [
    "s[['Sun', 'Sat']].mean()\n",
    "# s.loc[['Sun','Sat']].mean()\n",
    "\n",
    "\n",
    "\n",
    "# | 구문                     | 방식             | 특징                | 예외 처리                 |\n",
    "# | ---------------------- | ---------------  | ------------------| ----------------------- |\n",
    "# | `s[['Sun','Sat']]`     | 리스트 직접 선택     | 간단, 바로 선택 가능   | 존재하지 않는 라벨 → KeyError |\n",
    "# | `s.loc[['Sun','Sat']]` | 명시적 라벨 기반 선택 | 범위 선택,조건 선택 가능| 존재하지 않는 라벨 → KeyError |\n"
   ]
  },
  {
   "cell_type": "markdown",
   "metadata": {},
   "source": [
    "# Beyond 2\n",
    "\n",
    "How many times will the change in temperature from the previous day be greater than 2 degrees?\n",
    "\n",
    "전날 대비 온도 변화가 2도 이상인 경우가 몇 번 있었는가?"
   ]
  },
  {
   "cell_type": "code",
   "execution_count": 4,
   "metadata": {},
   "outputs": [
    {
     "data": {
      "text/plain": [
       "Tue    23\n",
       "Fri    22\n",
       "Sat    27\n",
       "Wed    17\n",
       "Thu    20\n",
       "Sat    19\n",
       "Thu    22\n",
       "Fri    25\n",
       "Sun    27\n",
       "Tue    22\n",
       "Wed    25\n",
       "dtype: int8"
      ]
     },
     "execution_count": 4,
     "metadata": {},
     "output_type": "execute_result"
    }
   ],
   "source": [
    "# by default, the \"diff\" method compares with the previous element\n",
    "s[s.diff() > 2]\n",
    "#s.diff()는 시리즈 각 값들을 이전 값과 비교하여 그 차이를 계산합니다.\n",
    "# s.diff() 를 실행해보면 첫번째 값은 이전 값이 존재하지 않기에 NaN이 나오고,\n",
    "# 그 다음 값부터는 이전 값과의 차이가 계산되어 나옵니다."
   ]
  },
  {
   "cell_type": "markdown",
   "metadata": {},
   "source": [
    "# Beyond 3\n",
    "\n",
    "What are the two most common temperatures, and how often does each appear?\n",
    "\n",
    "가장 많이 나타나는 두 개의 온도와, 각각 몇 번 나타났는지는 얼마인가?"
   ]
  },
  {
   "cell_type": "code",
   "execution_count": 5,
   "metadata": {},
   "outputs": [
    {
     "data": {
      "text/plain": [
       "17    4\n",
       "19    3\n",
       "Name: count, dtype: int64"
      ]
     },
     "execution_count": 5,
     "metadata": {},
     "output_type": "execute_result"
    }
   ],
   "source": [
    "# value_counts returns a series in which the values from s are \n",
    "# the index, the number of appearances is the value, and the\n",
    "# items are ordered from most common to least common. We can\n",
    "# then use \"head\" to get only the 2 most common values.\n",
    "s.value_counts().head(2)\n",
    "\n",
    "#value_counts() 메서드는 시리즈 내의 고유한 값들의 빈도수를 계산하여 새로운 시리즈를 반환\n",
    "# s.value_counts()\n",
    "# .head()는 상단 몇 개의 항목만을 선택하는 메서드이다. 기본값은 5, 여기서는 2를 지정해 상위 2개의 항목만 선택\n",
    "# .tail()로 하단 몇 개의 항목을 선택할 수도 있다."
   ]
  },
  {
   "cell_type": "code",
   "execution_count": null,
   "metadata": {},
   "outputs": [],
   "source": []
  }
 ],
 "metadata": {
  "kernelspec": {
   "display_name": "base",
   "language": "python",
   "name": "python3"
  },
  "language_info": {
   "codemirror_mode": {
    "name": "ipython",
    "version": 3
   },
   "file_extension": ".py",
   "mimetype": "text/x-python",
   "name": "python",
   "nbconvert_exporter": "python",
   "pygments_lexer": "ipython3",
   "version": "3.13.5"
  }
 },
 "nbformat": 4,
 "nbformat_minor": 4
}
