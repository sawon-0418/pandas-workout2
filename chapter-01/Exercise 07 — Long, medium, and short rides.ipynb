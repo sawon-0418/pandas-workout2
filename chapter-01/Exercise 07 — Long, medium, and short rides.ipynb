{
 "cells": [
  {
   "cell_type": "code",
   "execution_count": 8,
   "metadata": {},
   "outputs": [],
   "source": [
    "import numpy as np\n",
    "import pandas as pd\n",
    "from pandas import Series, DataFrame\n",
    "\n",
    "s = pd.read_csv('../data/taxi-distance.csv', header=None).squeeze()"
   ]
  },
  {
   "cell_type": "code",
   "execution_count": 9,
   "metadata": {},
   "outputs": [
    {
     "data": {
      "text/plain": [
       "0\n",
       "short     5890\n",
       "medium    3402\n",
       "long       707\n",
       "Name: count, dtype: int64"
      ]
     },
     "execution_count": 9,
     "metadata": {},
     "output_type": "execute_result"
    }
   ],
   "source": [
    "pd.cut(s, \n",
    "       bins=[0, 2, 10, s.max()], \n",
    "       include_lowest=True,\n",
    "       labels=['short', 'medium', 'long']).value_counts()\n",
    "\n",
    "#pd.cut()은 구간을 나누는 함수\n",
    "#bins 옵션에 구간의 경계값을 리스트로 지정\n",
    "#labels 옵션에 각 구간의 이름을 리스트로 지정\n",
    "#value_counts() 메서드로 각 구간에 속하는 데이터 개수를 계산\n",
    "#결과는 Series로 반환\n",
    "\n",
    "#즉 s라는 시리즈를 0~2, 2~10, 10~최대값의 세 구간으로 나누고\n",
    "#각 구간에 'short', 'medium', 'long'이라는 이름을 붙여서\n",
    "#각 구간에 속하는 데이터의 개수를 세는 코드\n",
    "#결과는 각 구간 이름을 인덱스로 갖는 시리즈로 반환"
   ]
  },
  {
   "cell_type": "code",
   "execution_count": null,
   "metadata": {},
   "outputs": [],
   "source": []
  }
 ],
 "metadata": {
  "kernelspec": {
   "display_name": "base",
   "language": "python",
   "name": "python3"
  },
  "language_info": {
   "codemirror_mode": {
    "name": "ipython",
    "version": 3
   },
   "file_extension": ".py",
   "mimetype": "text/x-python",
   "name": "python",
   "nbconvert_exporter": "python",
   "pygments_lexer": "ipython3",
   "version": "3.13.5"
  }
 },
 "nbformat": 4,
 "nbformat_minor": 4
}
