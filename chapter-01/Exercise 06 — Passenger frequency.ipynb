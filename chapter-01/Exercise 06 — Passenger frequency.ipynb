{
 "cells": [
  {
   "cell_type": "code",
   "execution_count": 6,
   "metadata": {},
   "outputs": [
    {
     "data": {
      "text/plain": [
       "0\n",
       "1    0.720772\n",
       "6    0.036904\n",
       "Name: proportion, dtype: float64"
      ]
     },
     "execution_count": 6,
     "metadata": {},
     "output_type": "execute_result"
    }
   ],
   "source": [
    "import numpy as np\n",
    "import pandas as pd\n",
    "from pandas import Series, DataFrame\n",
    "\n",
    "s = pd.read_csv('../data/taxi-passenger-count.csv', header=None).squeeze()\n",
    "#pd.read_csv로 data폴더의 taxi-passenger-count.csv파일을 가져온다. 이때 header=None으로 지정하여 첫 행을 헤더로 사용하지 않도록 한다.\n",
    "# 📌 헤더(header)란?\n",
    "# 데이터 파일(CSV, Excel 등)에서 첫 번째 행을 말해요.\n",
    "# 보통 열(column)의 이름을 담고 있음.\n",
    "# header=None으로 지정하면 pandas가 자동으로 숫자 인덱스를 열 이름으로 사용.\n",
    "# pd.read_csv() 함수는 기본적으로 DataFrame을 반환하지만, squeeze() 메서드를 사용하여 Series로 변환.\n",
    "# squeeze() 메서드는 데이터 구조가 단일 열 또는 단일 행인 경우 DataFrame을 Series로 변환.\n",
    "s.value_counts(normalize=True)[[1, 6]]\n",
    "\n",
    "#value_counts() 메서드는 Series에서 각 고유 값의 빈도 수를 계산.\n",
    "#normalize=True로 지정하면 각 값의 빈도 수를 전체 값의 개수로 나눈 비율을 반환. 즉, 상대 빈도인 확률을 계산.\n",
    "#[[1, 6]]은 각각 승객 수를 의미, 1명과 6명의 승객이 탑승한 경우의 확률을 선택.\n",
    "#따라서 이 코드는 택시 승객 수 데이터에서 1명과 6명의 승객이 탑승한 경우의 확률을 계산하여 반환.\n",
    "\n",
    "#아래 방법처럼 따로 구하는 방법도 있음.\n",
    "# s[s == 1].value_counts() / s.size\n",
    "# s[s == 6].value_counts() / s.size\n"
   ]
  },
  {
   "cell_type": "code",
   "execution_count": 9,
   "metadata": {},
   "outputs": [
    {
     "data": {
      "text/plain": [
       "0\n",
       "1    7207\n",
       "2    1313\n",
       "5     520\n",
       "3     406\n",
       "6     369\n",
       "4     182\n",
       "0       2\n",
       "Name: count, dtype: int64"
      ]
     },
     "execution_count": 9,
     "metadata": {},
     "output_type": "execute_result"
    }
   ],
   "source": [
    "s.value_counts() # Series의 각 고유 값의 빈도 수를 계산하여 반환.\n",
    "#normalize=True로 지정하면 결국 s.value_counts() / s.count()와 동일한 결과를 반환.\n",
    "# s.value_counts() / s.count()"
   ]
  },
  {
   "cell_type": "code",
   "execution_count": 10,
   "metadata": {},
   "outputs": [
    {
     "data": {
      "text/plain": [
       "0\n",
       "1    0.720772\n",
       "6    0.036904\n",
       "Name: proportion, dtype: float64"
      ]
     },
     "execution_count": 10,
     "metadata": {},
     "output_type": "execute_result"
    }
   ],
   "source": [
    "s.value_counts(normalize=True)[[1,6]]\n"
   ]
  },
  {
   "cell_type": "code",
   "execution_count": null,
   "metadata": {},
   "outputs": [],
   "source": []
  }
 ],
 "metadata": {
  "kernelspec": {
   "display_name": "base",
   "language": "python",
   "name": "python3"
  },
  "language_info": {
   "codemirror_mode": {
    "name": "ipython",
    "version": 3
   },
   "file_extension": ".py",
   "mimetype": "text/x-python",
   "name": "python",
   "nbconvert_exporter": "python",
   "pygments_lexer": "ipython3",
   "version": "3.13.5"
  }
 },
 "nbformat": 4,
 "nbformat_minor": 4
}
