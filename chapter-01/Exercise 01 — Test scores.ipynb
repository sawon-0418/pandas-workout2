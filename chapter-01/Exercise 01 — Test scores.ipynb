{
 "cells": [
  {
   "cell_type": "code",
   "execution_count": 2,
   "metadata": {},
   "outputs": [],
   "source": [
    "import numpy as np #넘파이 라이브러리 임포트\n",
    "import pandas as pd #판다스 라이브러리 임포트\n",
    "from pandas import Series, DataFrame #판다스의 Series, DataFrame 클래스 임포트"
   ]
  },
  {
   "cell_type": "code",
   "execution_count": 3,
   "metadata": {},
   "outputs": [
    {
     "data": {
      "text/plain": [
       "Sep    96\n",
       "Oct    89\n",
       "Nov    85\n",
       "Dec    78\n",
       "Jan    79\n",
       "Feb    71\n",
       "Mar    72\n",
       "Apr    70\n",
       "May    75\n",
       "Jun    95\n",
       "dtype: int64"
      ]
     },
     "execution_count": 3,
     "metadata": {},
     "output_type": "execute_result"
    }
   ],
   "source": [
    "g = np.random.default_rng(0) #random number generator 생성 시드값0\n",
    "months = 'Sep Oct Nov Dec Jan Feb Mar Apr May Jun'.split() #월 리스트 생성, split()로 문자열을 공백 기준으로 나눔\n",
    "\n",
    "s = Series(g.integers(70, 101, 10), \n",
    "          index=months) #70~100 사이의 정수 10개를 균등분포로 생성하여 Series 객체 생성, 인덱스는 months 리스트로 설정\n",
    "s #Series 출력"
   ]
  },
  {
   "cell_type": "code",
   "execution_count": 5,
   "metadata": {},
   "outputs": [
    {
     "name": "stdout",
     "output_type": "stream",
     "text": [
      "Entire year average: 81.0\n"
     ]
    }
   ],
   "source": [
    "print(f'Entire year average: {s.mean()}') #시리즈의 평균을 구하는 mean() 메서드 사용해 전체 년도의 평균 출력\n",
    "\n",
    "# 문자열 안에 중괄호 {}를 사용하여 변수 값이나 표현식을 바로 삽입할 수 있음\n",
    "# 문자열 앞에 f를 붙이면 Python이 중괄호 안의 내용을 평가한 뒤 문자열로 변환"
   ]
  },
  {
   "cell_type": "code",
   "execution_count": 6,
   "metadata": {
    "scrolled": true
   },
   "outputs": [
    {
     "name": "stdout",
     "output_type": "stream",
     "text": [
      "Yearly average: 81.0\n",
      "First half average: 85.4\n",
      "Second half average: 76.6\n",
      "Improvement: -8.800000000000011\n"
     ]
    }
   ],
   "source": [
    "first_half_average = s['Sep':'Jan'].mean() #첫 5개월(9월~1월)의 평균 계산\n",
    "second_half_average = s['Feb':'Jun'].mean() #마지막 5개월(2월~6월)의 평균 계산\n",
    "\n",
    "print(f'Yearly average: {s.mean()}') #전체 년도의 평균 출력\n",
    "\n",
    "print(f'First half average: {first_half_average}') #첫 5개월의 평균 출력\n",
    "print(f'Second half average: {second_half_average}') #마지막 5개월의 평균 출력\n",
    "\n",
    "print(f'Improvement: {second_half_average - first_half_average}') #두 평균의 차이를 계산하여 출력"
   ]
  }
 ],
 "metadata": {
  "kernelspec": {
   "display_name": "base",
   "language": "python",
   "name": "python3"
  },
  "language_info": {
   "codemirror_mode": {
    "name": "ipython",
    "version": 3
   },
   "file_extension": ".py",
   "mimetype": "text/x-python",
   "name": "python",
   "nbconvert_exporter": "python",
   "pygments_lexer": "ipython3",
   "version": "3.13.5"
  }
 },
 "nbformat": 4,
 "nbformat_minor": 4
}
