{
 "cells": [
  {
   "cell_type": "code",
   "execution_count": 31,
   "metadata": {},
   "outputs": [],
   "source": [
    "import numpy as np\n",
    "import pandas as pd\n",
    "from pandas import Series, DataFrame\n",
    "\n",
    "g = np.random.default_rng(0)\n",
    "months = 'Sep Oct Nov Dec Jan Feb Mar Apr May Jun'.split()\n",
    "#9월 10월 11월 12월 1월 2월 3월 4월 5월 6월을 공백을 기준으로 나누어 리스트로 만든다.\n",
    "s = Series(g.integers(70, 100, 10),\n",
    "          index=months)\n",
    "#Exercise 01과 동일하게 Series 객체를 생성한다."
   ]
  },
  {
   "cell_type": "markdown",
   "metadata": {},
   "source": [
    "# Beyond 1\n",
    "\n",
    "In which month did this student get their highest score? Note that there are at least two ways to accomplish this: You can sort the values, taking the largest one, or you can use a boolean (\"mask\") index to find those rows that match the value of `s.max()`, the highest value.\n",
    "\n",
    "Beyond 1\n",
    "이 학생이 가장 높은 점수를 받은 달은 언제인가요? 이를 해결하는 방법은 최소 두 가지가 있습니다. 값을 정렬하여 가장 큰 값을 선택하는 방법이 있고, 또는 s.max()로 구한 최고 점수와 일치하는 행을 찾기 위해 boolean(\"마스크\") 인덱스를 사용하는 방법이 있습니다."
   ]
  },
  {
   "cell_type": "code",
   "execution_count": 37,
   "metadata": {},
   "outputs": [
    {
     "data": {
      "text/plain": [
       "'Sep'"
      ]
     },
     "execution_count": 37,
     "metadata": {},
     "output_type": "execute_result"
    }
   ],
   "source": [
    "# Option 1\n",
    "s.sort_values(ascending=False).index[0] #ascending을 이용해 내림차순 정렬 후 index[0]으로 최대값의 인덱스를 구한다.\n",
    "# ascending : 오름차순\n",
    "# s.sort_values(ascending=False).head(1) 는 인덱스와 값을 모두 반환한다."
   ]
  },
  {
   "cell_type": "code",
   "execution_count": 33,
   "metadata": {},
   "outputs": [
    {
     "data": {
      "text/plain": [
       "'Sep'"
      ]
     },
     "execution_count": 33,
     "metadata": {},
     "output_type": "execute_result"
    }
   ],
   "source": [
    "# Option 2\n",
    "s[s==s.max()].index[0] #s==s.max()로 최대값의 위치를 True로 하는 불리언 시리즈를 만든 후, s[]로 필터링하여 최대값의 인덱스를 구한다.\n",
    "#즉 s.max()의 값을 가진 값이 true가 되어 필터링 된다.\n"
   ]
  },
  {
   "cell_type": "code",
   "execution_count": 38,
   "metadata": {},
   "outputs": [
    {
     "data": {
      "text/plain": [
       "'Sep'"
      ]
     },
     "execution_count": 38,
     "metadata": {},
     "output_type": "execute_result"
    }
   ],
   "source": [
    "# Option 3\n",
    "s.idxmax() #idxmax() 메서드는 최대값의 인덱스를 반환한다. \n",
    "#s의 인덱스는 months이므로 최대값의 인덱스는 'sep'이 된다."
   ]
  },
  {
   "cell_type": "markdown",
   "metadata": {},
   "source": [
    "# Beyond 2\n",
    "\n",
    "What were this student's five highest scores in the year?\n",
    "\n",
    "Beyond 2\n",
    "이 학생이 한 해 동안 받은 다섯 개의 가장 높은 점수는 무엇인가요?"
   ]
  },
  {
   "cell_type": "code",
   "execution_count": 35,
   "metadata": {},
   "outputs": [
    {
     "data": {
      "text/plain": [
       "Sep    95\n",
       "Jun    94\n",
       "Oct    89\n",
       "Nov    85\n",
       "Jan    79\n",
       "dtype: int64"
      ]
     },
     "execution_count": 35,
     "metadata": {},
     "output_type": "execute_result"
    }
   ],
   "source": [
    "s.sort_values(ascending=False).head(5) #내림차순 정렬 후 head(5)로 상위 5개 값을 구한다."
   ]
  },
  {
   "cell_type": "markdown",
   "metadata": {},
   "source": [
    "# Beyond 3\n",
    "\n",
    "Round the student's scores to the nearest 10.  So a score of 82 would be rounded down to 80, but a score of 87 would be rounded up to 90.\n",
    "\n",
    "Beyond 3\n",
    "학생의 점수를 가장 가까운 10의 배수로 반올림하세요. 예를 들어, 82점은 80으로 내림되고, 87점은 90으로 올림됩니다.\n",
    "\n"
   ]
  },
  {
   "cell_type": "code",
   "execution_count": 36,
   "metadata": {},
   "outputs": [
    {
     "data": {
      "text/plain": [
       "Sep    100\n",
       "Oct     90\n",
       "Nov     80\n",
       "Dec     80\n",
       "Jan     80\n",
       "Feb     70\n",
       "Mar     70\n",
       "Apr     70\n",
       "May     80\n",
       "Jun     90\n",
       "dtype: int64"
      ]
     },
     "execution_count": 36,
     "metadata": {},
     "output_type": "execute_result"
    }
   ],
   "source": [
    "# The \"round\" method, when given a positive integer argument, rounds numbers after the\n",
    "# decimal point. When given a negative integer argument, it rounds numbers *before* the decimal point!\n",
    "\n",
    "s.round(-1)  # -1은 소수점 첫째자리에서 반올림한다는 의미이다. 10의 -1승을 의미한다. 기본값은 0 --> 정수로 만든다는 것"
   ]
  }
 ],
 "metadata": {
  "kernelspec": {
   "display_name": "base",
   "language": "python",
   "name": "python3"
  },
  "language_info": {
   "codemirror_mode": {
    "name": "ipython",
    "version": 3
   },
   "file_extension": ".py",
   "mimetype": "text/x-python",
   "name": "python",
   "nbconvert_exporter": "python",
   "pygments_lexer": "ipython3",
   "version": "3.13.5"
  }
 },
 "nbformat": 4,
 "nbformat_minor": 4
}
