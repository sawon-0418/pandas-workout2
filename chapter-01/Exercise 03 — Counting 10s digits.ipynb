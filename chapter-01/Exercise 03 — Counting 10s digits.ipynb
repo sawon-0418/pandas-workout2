{
 "cells": [
  {
   "cell_type": "code",
   "execution_count": 22,
   "metadata": {},
   "outputs": [
    {
     "data": {
      "text/plain": [
       "0    85\n",
       "1    63\n",
       "2    51\n",
       "3    26\n",
       "4    30\n",
       "5     4\n",
       "6     7\n",
       "7     1\n",
       "8    17\n",
       "9    81\n",
       "dtype: int64"
      ]
     },
     "execution_count": 22,
     "metadata": {},
     "output_type": "execute_result"
    }
   ],
   "source": [
    "import numpy as np\n",
    "import pandas as pd\n",
    "from pandas import Series, DataFrame\n",
    "## 10의 자리수를 구하는 것 ##\n",
    "g = np.random.default_rng(0) #g는 난수생성기 객체가 됨\n",
    "s = Series(g.integers(0, 100, 10)) #0~100사이(0부터 99까지)의 정수 10개를 균등분포로 생성하여 Series 객체로 만듦\n",
    "s"
   ]
  },
  {
   "cell_type": "code",
   "execution_count": 23,
   "metadata": {},
   "outputs": [
    {
     "data": {
      "text/plain": [
       "0    8.5\n",
       "1    6.3\n",
       "2    5.1\n",
       "3    2.6\n",
       "4    3.0\n",
       "5    0.4\n",
       "6    0.7\n",
       "7    0.1\n",
       "8    1.7\n",
       "9    8.1\n",
       "dtype: float64"
      ]
     },
     "execution_count": 23,
     "metadata": {},
     "output_type": "execute_result"
    }
   ],
   "source": [
    "# solution 1, using /\n",
    "(s / 10).astype(np.int8)\n",
    "s/10\n",
    "#s / 10은 float64 타입이므로 astype() 메서드를 사용하여 int8 타입으로 변환\n",
    "#따라서 5,6,7 인덱스를 가진 값은 int8 타입으로 변환되어 소수점이 버려져 0이 됨"
   ]
  },
  {
   "cell_type": "code",
   "execution_count": 24,
   "metadata": {},
   "outputs": [
    {
     "data": {
      "text/plain": [
       "0    8\n",
       "1    6\n",
       "2    5\n",
       "3    2\n",
       "4    3\n",
       "5    0\n",
       "6    0\n",
       "7    0\n",
       "8    1\n",
       "9    8\n",
       "dtype: int64"
      ]
     },
     "execution_count": 24,
     "metadata": {},
     "output_type": "execute_result"
    }
   ],
   "source": [
    "# solution 2, using //\n",
    "(s // 10)\n",
    "#s를 10으로 나누었을 때 몫을 구한다. 가장 쉬운 방법\n",
    "#하지만 두자리수이기에 가능한 방법이다. "
   ]
  },
  {
   "cell_type": "code",
   "execution_count": 25,
   "metadata": {},
   "outputs": [
    {
     "data": {
      "text/plain": [
       "0    8\n",
       "1    6\n",
       "2    5\n",
       "3    2\n",
       "4    3\n",
       "5    0\n",
       "6    0\n",
       "7    0\n",
       "8    1\n",
       "9    8\n",
       "dtype: object"
      ]
     },
     "execution_count": 25,
     "metadata": {},
     "output_type": "execute_result"
    }
   ],
   "source": [
    "# solution 3, partial\n",
    "\n",
    "# (s.astype(str).str)[-2].fillna('0') 동일한 방법\n",
    "s.astype(str).str.get(-2).fillna('0')\n",
    "# s.astype(str).str #이터레이터 라고 부름 \n",
    "# 문자열 메서드를 벡터화하여 적용할 수 있게 해주는 .str accessor를 사용 (지피티 설명으로는 이터레이터가 아니라고 함)\n",
    "# 왜 이걸 \"이터레이터\"라고 생각하기 쉬울까?\n",
    "# .str을 쓰면 각 원소에 문자열 메서드를 반복 적용하는 것처럼 보이기 때문이에요.\n",
    "# 실제 내부 동작은 반복(iteration)과 비슷하지만, 엄밀히 말하면 Pandas가 벡터화된 문자열 연산을 제공하는 거라서 이 자체가 이터레이터는 아니에요.\n",
    "\n",
    "# **이터레이터(iterator)**는 파이썬을 포함한 많은 언어에서 쓰이는 개념으로, 데이터를 차례대로 하나씩 꺼낼 수 있는 객체를 말해요.\n",
    "# 즉 시리즈에서 데이터를 하나씩 꺼내서 문자열로 사용할 수 있게 해주는 것 \n",
    "\n",
    "#astype(str)로 문자열로 변환한 후, \n",
    "#.str로 문자열로 된 Series 객체에 접근하여\n",
    "#.get(-2)로\n",
    "#뒤에서 두번째 자리에 위치한 숫자를 구하고, 원래의 수가 1의 자리 수인 경우 NaN이 된다. 이를 fillna('0')로 0으로 채운다.\n",
    "#이때 다시 형변환을 하지 않아 object 타입이 된다.\n",
    "#object 타입은 문자열이 섞여있을 때 사용하는 타입이다."
   ]
  },
  {
   "cell_type": "code",
   "execution_count": 26,
   "metadata": {},
   "outputs": [
    {
     "data": {
      "text/plain": [
       "0    8\n",
       "1    6\n",
       "2    5\n",
       "3    2\n",
       "4    3\n",
       "5    0\n",
       "6    0\n",
       "7    0\n",
       "8    1\n",
       "9    8\n",
       "dtype: int8"
      ]
     },
     "execution_count": 26,
     "metadata": {},
     "output_type": "execute_result"
    }
   ],
   "source": [
    "# solution 3, complete\n",
    "s.astype(str).str.get(-2).fillna('0').astype(np.int8)\n",
    "#위에서 문자열로 바꾸었던 값을 다시 astype(np.int8)로 정수형으로 변환"
   ]
  },
  {
   "cell_type": "code",
   "execution_count": 27,
   "metadata": {},
   "outputs": [
    {
     "data": {
      "text/plain": [
       "0    8\n",
       "1    6\n",
       "2    5\n",
       "3    2\n",
       "4    3\n",
       "5    0\n",
       "6    0\n",
       "7    0\n",
       "8    1\n",
       "9    8\n",
       "dtype: int8"
      ]
     },
     "execution_count": 27,
     "metadata": {},
     "output_type": "execute_result"
    }
   ],
   "source": [
    "(\n",
    "    s\n",
    "    .astype(str)     # get a series based on s, with dtype str\n",
    "    .str.get(-2)     # retrieve the second-to-last character\n",
    "    .fillna('0')     # replace NaN with '0'\n",
    "    .astype(np.int8) # get a new series back dtype int8\n",
    ")\n",
    "#파이썬은 인터프리터 언어이기에 줄바꿈이 되면 안되지만, 괄호로 묶었기에 줄바꿈이 가능하다.\n",
    "#각 줄에 \\를 사용하여 줄바꿈을 할 수도 있다.\n",
    "s\\\n",
    ".astype(str)\\\n",
    ".str.get(-2)\\\n",
    ".fillna('0')\\\n",
    ".astype(np.int8)\n"
   ]
  },
  {
   "cell_type": "code",
   "execution_count": null,
   "metadata": {},
   "outputs": [],
   "source": []
  }
 ],
 "metadata": {
  "kernelspec": {
   "display_name": "base",
   "language": "python",
   "name": "python3"
  },
  "language_info": {
   "codemirror_mode": {
    "name": "ipython",
    "version": 3
   },
   "file_extension": ".py",
   "mimetype": "text/x-python",
   "name": "python",
   "nbconvert_exporter": "python",
   "pygments_lexer": "ipython3",
   "version": "3.13.5"
  }
 },
 "nbformat": 4,
 "nbformat_minor": 4
}
