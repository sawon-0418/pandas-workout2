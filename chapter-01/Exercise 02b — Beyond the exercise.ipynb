{
 "cells": [
  {
   "cell_type": "code",
   "execution_count": 1,
   "metadata": {},
   "outputs": [],
   "source": [
    "import numpy as np\n",
    "import pandas as pd\n",
    "from pandas import Series, DataFrame\n",
    "\n",
    "g = np.random.default_rng(0)\n",
    "months = 'Sep Oct Nov Dec Jan Feb Mar Apr May Jun'.split()\n",
    "\n",
    "s = Series(g.integers(40, 60, 10),\n",
    "          index=months)\n"
   ]
  },
  {
   "cell_type": "markdown",
   "metadata": {},
   "source": [
    "# Beyond 1\n",
    "\n",
    "There's at least one other way to scale test scores, namely by looking at both the mean of the scores and their standard deviation. We can say anyone who scored within 1 standard deviation of the mean got a C (below the mean) or a B (above the mean). Anyone who scored more than 1 standard deviation above the mean got an A, and anyone who got more than one standard deviation below the mean got a D. During which months did our student get an A, B, C, and D?\n",
    "\n",
    "Beyond 1\n",
    "시험 점수를 조정하는 또 다른 방법이 있습니다. 바로 점수의 평균과 표준편차를 활용하는 것입니다. 평균에서 1 표준편차 이내의 점수를 받은 사람은 평균 이하일 경우 C, 평균 이상일 경우 B를 받습니다. 평균에서 1 표준편차를 초과하여 높은 점수를 받은 사람은 A를 받고, 평균에서 1 표준편차를 초과하여 낮은 점수를 받은 사람은 D를 받습니다. 우리 학생은 어떤 달에 A, B, C, D를 받았나요?"
   ]
  },
  {
   "cell_type": "code",
   "execution_count": 2,
   "metadata": {},
   "outputs": [
    {
     "data": {
      "text/plain": [
       "Sep    57\n",
       "Jun    56\n",
       "dtype: int64"
      ]
     },
     "execution_count": 2,
     "metadata": {},
     "output_type": "execute_result"
    }
   ],
   "source": [
    "# A students get are greater than mean + std\n",
    "s[s > s.mean() + s.std()]\n",
    "# s에서 평균 + 표준편차보다 큰 값들의 시리즈 반환 --> A \n",
    "# std는 표준편차, Standard Deviation"
   ]
  },
  {
   "cell_type": "code",
   "execution_count": 3,
   "metadata": {},
   "outputs": [
    {
     "data": {
      "text/plain": [
       "Oct    52\n",
       "Nov    50\n",
       "dtype: int64"
      ]
     },
     "execution_count": 3,
     "metadata": {},
     "output_type": "execute_result"
    }
   ],
   "source": [
    "# B students are greater than mean, but less than mean+std\n",
    "s[(s < s.mean() + s.std()) & (s > s.mean())]\n",
    "# s에서 평균 + 표준편차보다 작으며, 평균보다는 큰 값들의 시리즈 반환 --> B"
   ]
  },
  {
   "cell_type": "code",
   "execution_count": 4,
   "metadata": {},
   "outputs": [
    {
     "data": {
      "text/plain": [
       "Dec    45\n",
       "Jan    46\n",
       "Mar    41\n",
       "May    43\n",
       "dtype: int64"
      ]
     },
     "execution_count": 4,
     "metadata": {},
     "output_type": "execute_result"
    }
   ],
   "source": [
    "# C students are less than mean, but greater han mean-std\n",
    "s[(s > s.mean() - s.std()) & (s < s.mean())]\n",
    "# s에서 평균 - 표준편차보다 크며, 평균보다는 작은 값들의 시리즈 반환 --> C"
   ]
  },
  {
   "cell_type": "code",
   "execution_count": 5,
   "metadata": {},
   "outputs": [
    {
     "data": {
      "text/plain": [
       "Feb    40\n",
       "Apr    40\n",
       "dtype: int64"
      ]
     },
     "execution_count": 5,
     "metadata": {},
     "output_type": "execute_result"
    }
   ],
   "source": [
    "# D students are less than mean - std\n",
    "s[s < s.mean() - s.std()]\n",
    "# s에서 평균 - 표준편차보다 작은 값들의 시리즈 반환 --> D"
   ]
  },
  {
   "cell_type": "markdown",
   "metadata": {},
   "source": [
    "# Beyond 2\n",
    "\n",
    "Were there any test scores more than 2 standard deviations above or below the mean?  If so, in which months?\n",
    "\n",
    "\n",
    "Beyond 2\n",
    "평균에서 2 표준편차를 초과하여 높거나 낮은 시험 점수가 있었나요? 있었다면, 어떤 달에 있었나요?"
   ]
  },
  {
   "cell_type": "code",
   "execution_count": 9,
   "metadata": {},
   "outputs": [
    {
     "data": {
      "text/plain": [
       "Series([], dtype: int64)"
      ]
     },
     "execution_count": 9,
     "metadata": {},
     "output_type": "execute_result"
    }
   ],
   "source": [
    "# Were any test scores mean+2 standard deviations, or mean - 2 standard deviations?\n",
    "s[(s < s.mean()-2*s.std())  |\n",
    "  (s > s.mean()+2*s.std())]\n",
    "#s에서 평균 - 2*표준편차보다 작거나, 평균 + 2*표준편차보다 큰 값들의 시리즈 반환\n",
    "# nope, turns out there weren't any!"
   ]
  },
  {
   "cell_type": "markdown",
   "metadata": {},
   "source": [
    "# Beyond 3\n",
    "\n",
    "How close are the mean and median to one another? What does it mean if they are close? What would it mean if they are far apart?\n",
    "\n",
    "Beyond 3\n",
    "평균(mean)과 중앙값(median)은 서로 얼마나 가까운가요? 만약 평균과 중앙값이 가깝다면, 그것은 무엇을 의미하나요? 만약 평균과 중앙값이 멀다면, 그것은 무엇을 의미하나요?"
   ]
  },
  {
   "cell_type": "code",
   "execution_count": 7,
   "metadata": {},
   "outputs": [
    {
     "data": {
      "text/plain": [
       "np.float64(47.0)"
      ]
     },
     "execution_count": 7,
     "metadata": {},
     "output_type": "execute_result"
    }
   ],
   "source": [
    "s.mean() #s의 평균"
   ]
  },
  {
   "cell_type": "code",
   "execution_count": 23,
   "metadata": {},
   "outputs": [
    {
     "name": "stderr",
     "output_type": "stream",
     "text": [
      "/var/folders/d9/j0qdg7qj62lcz91ls2jr2rnm0000gn/T/ipykernel_44244/348378208.py:3: FutureWarning: Series.__getitem__ treating keys as positions is deprecated. In a future version, integer keys will always be treated as labels (consistent with DataFrame behavior). To access a value by position, use `ser.iloc[pos]`\n",
      "  (s[4] + s[5]) / 2\n"
     ]
    },
    {
     "data": {
      "text/plain": [
       "np.float64(43.0)"
      ]
     },
     "execution_count": 23,
     "metadata": {},
     "output_type": "execute_result"
    }
   ],
   "source": [
    "s.median() #s의 중앙값"
   ]
  },
  {
   "cell_type": "markdown",
   "metadata": {},
   "source": [
    "The mean and median are basically the same, which means that we don't have any large outliers skewing the mean's value. If the mean were much higher than the median, then we would assume we have at least one very high test score. And if the mean were much lower than the median, we could assume we have at least one very low test score.\n",
    "\n",
    "평균과 중앙값이 거의 같다는 것은 평균값을 왜곡시킬 정도의 큰 이상치가 없다는 것을 의미합니다. 만약 평균이 중앙값보다 훨씬 크다면, 매우 높은 시험 점수가 적어도 하나 이상 있다고 추정할 수 있습니다. 반대로 평균이 중앙값보다 훨씬 낮다면, 매우 낮은 시험 점수가 적어도 하나 이상 있다고 추정할 수 있습니다."
   ]
  }
 ],
 "metadata": {
  "kernelspec": {
   "display_name": "base",
   "language": "python",
   "name": "python3"
  },
  "language_info": {
   "codemirror_mode": {
    "name": "ipython",
    "version": 3
   },
   "file_extension": ".py",
   "mimetype": "text/x-python",
   "name": "python",
   "nbconvert_exporter": "python",
   "pygments_lexer": "ipython3",
   "version": "3.13.5"
  }
 },
 "nbformat": 4,
 "nbformat_minor": 4
}
