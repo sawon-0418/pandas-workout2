{
 "cells": [
  {
   "cell_type": "code",
   "execution_count": 10,
   "metadata": {},
   "outputs": [],
   "source": [
    "import numpy as np\n",
    "import pandas as pd\n",
    "from pandas import Series, DataFrame\n",
    "\n",
    "days = 'Sun Mon Tue Wed Thu Fri Sat'.split()\n",
    "\n",
    "g = np.random.default_rng(0)\n",
    "s = Series(g.normal(20, 5, 28), \n",
    "           #평균이 20, 표준편차가 5인 정규분포에서 28개의 난수를 생성\n",
    "          index=days*4).round().astype(np.int8)\n",
    "#days는 7개의 요일이므로 4주치를 구하기 위해 4번 반복\n"
   ]
  },
  {
   "cell_type": "code",
   "execution_count": 11,
   "metadata": {},
   "outputs": [
    {
     "data": {
      "text/plain": [
       "Sun    21\n",
       "Mon    19\n",
       "Tue    23\n",
       "Wed    21\n",
       "Thu    17\n",
       "Fri    22\n",
       "Sat    27\n",
       "Sun    25\n",
       "Mon    16\n",
       "Tue    14\n",
       "Wed    17\n",
       "Thu    20\n",
       "Fri     8\n",
       "Sat    19\n",
       "Sun    14\n",
       "Mon    16\n",
       "Tue    17\n",
       "Wed    18\n",
       "Thu    22\n",
       "Fri    25\n",
       "Sat    19\n",
       "Sun    27\n",
       "Mon    17\n",
       "Tue    22\n",
       "Wed    25\n",
       "Thu    20\n",
       "Fri    16\n",
       "Sat    15\n",
       "dtype: int8"
      ]
     },
     "execution_count": 11,
     "metadata": {},
     "output_type": "execute_result"
    }
   ],
   "source": [
    "s"
   ]
  },
  {
   "cell_type": "code",
   "execution_count": 12,
   "metadata": {},
   "outputs": [
    {
     "data": {
      "text/plain": [
       "np.float64(17.0)"
      ]
     },
     "execution_count": 12,
     "metadata": {},
     "output_type": "execute_result"
    }
   ],
   "source": [
    "s.loc['Mon'].mean()\n",
    "#월요일 데이터만 선택하여 평균을 계산"
   ]
  },
  {
   "cell_type": "code",
   "execution_count": null,
   "metadata": {},
   "outputs": [],
   "source": []
  }
 ],
 "metadata": {
  "kernelspec": {
   "display_name": "base",
   "language": "python",
   "name": "python3"
  },
  "language_info": {
   "codemirror_mode": {
    "name": "ipython",
    "version": 3
   },
   "file_extension": ".py",
   "mimetype": "text/x-python",
   "name": "python",
   "nbconvert_exporter": "python",
   "pygments_lexer": "ipython3",
   "version": "3.13.5"
  }
 },
 "nbformat": 4,
 "nbformat_minor": 4
}
