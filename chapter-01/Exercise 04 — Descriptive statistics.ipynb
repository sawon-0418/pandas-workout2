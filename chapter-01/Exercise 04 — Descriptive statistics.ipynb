{
 "cells": [
  {
   "cell_type": "code",
   "execution_count": null,
   "metadata": {},
   "outputs": [
    {
     "data": {
      "text/plain": [
       "0         12.573022\n",
       "1        -13.210486\n",
       "2         64.042265\n",
       "3         10.490012\n",
       "4        -53.566937\n",
       "            ...    \n",
       "99995    -91.667135\n",
       "99996   -231.480500\n",
       "99997     -0.028179\n",
       "99998   -109.645051\n",
       "99999    -49.541294\n",
       "Length: 100000, dtype: float64"
      ]
     },
     "execution_count": 1,
     "metadata": {},
     "output_type": "execute_result"
    }
   ],
   "source": [
    "import numpy as np\n",
    "import pandas as pd\n",
    "from pandas import Series, DataFrame\n",
    "\n",
    "g = np.random.default_rng(0)\n",
    "s = Series(g.normal(0, 100, 100_000))\n",
    "\n",
    "# g.normal = 정규분포 난수 생성기\n",
    "# g.integers와 달리 실수(float) 난수를 생성\n",
    "# integers = 균등분포 난수 생성기\n",
    "s"
   ]
  },
  {
   "cell_type": "code",
   "execution_count": 2,
   "metadata": {
    "scrolled": true
   },
   "outputs": [
    {
     "data": {
      "text/plain": [
       "count    100000.000000\n",
       "mean         -0.090825\n",
       "std         100.013350\n",
       "min        -449.411704\n",
       "25%         -67.292120\n",
       "50%          -0.414699\n",
       "75%          67.636542\n",
       "max         473.195769\n",
       "dtype: float64"
      ]
     },
     "execution_count": 2,
     "metadata": {},
     "output_type": "execute_result"
    }
   ],
   "source": [
    "s.describe() \n",
    "# pandas에서 제공하는 기본 통계 요약\n",
    "#각각 count, mean, std, min, 25%, 50%, 75%, max는 \n",
    "#데이터의 개수, 평균, 표준편차, 최소값, 1사분위수, 중앙값, 3사분위수, 최대값을 의미\n",
    "#통계 요약을 통해 데이터의 분포와 특성을 빠르게 파악할 수 있음"
   ]
  },
  {
   "cell_type": "code",
   "execution_count": 3,
   "metadata": {},
   "outputs": [],
   "source": [
    "s.loc[s == s.min()] = 5*s.max()\n",
    "#s시리즈의 값들 중에서 최소값과 같은 값을 찾아서\n",
    "#그 위치에 해당하는 값을 최대값의 5배로 변경"
   ]
  },
  {
   "cell_type": "code",
   "execution_count": 4,
   "metadata": {
    "scrolled": true
   },
   "outputs": [
    {
     "data": {
      "text/plain": [
       "count    100000.000000\n",
       "mean         -0.062671\n",
       "std         100.282770\n",
       "min        -402.315865\n",
       "25%         -67.288054\n",
       "50%          -0.409289\n",
       "75%          67.640758\n",
       "max        2365.978844\n",
       "dtype: float64"
      ]
     },
     "execution_count": 4,
     "metadata": {},
     "output_type": "execute_result"
    }
   ],
   "source": [
    "s.describe()\n",
    "#다시 통계 요약을 출력하여 변경된 데이터의 특성을 확인\n",
    "#최소값이 최대값의 5배로 변경되었기 때문에\n",
    "#평균과 표준편차 등 다른 통계량에도 영향을 미침\n",
    "#최솟값은 -449보다 커진 값인 -398.410205가 되었고,\n",
    "#최대값이었던 473.195769의 5배인 2365.978845로 변경\n",
    "\n",
    "##### 주의 ##### 위의 계산 코드를 여러번 실행 시 값이 변경."
   ]
  },
  {
   "cell_type": "code",
   "execution_count": null,
   "metadata": {},
   "outputs": [],
   "source": []
  }
 ],
 "metadata": {
  "kernelspec": {
   "display_name": "base",
   "language": "python",
   "name": "python3"
  },
  "language_info": {
   "codemirror_mode": {
    "name": "ipython",
    "version": 3
   },
   "file_extension": ".py",
   "mimetype": "text/x-python",
   "name": "python",
   "nbconvert_exporter": "python",
   "pygments_lexer": "ipython3",
   "version": "3.13.5"
  }
 },
 "nbformat": 4,
 "nbformat_minor": 4
}
