{
 "cells": [
  {
   "cell_type": "code",
   "execution_count": 12,
   "metadata": {},
   "outputs": [],
   "source": [
    "import numpy as np\n",
    "import pandas as pd\n",
    "from pandas import Series, DataFrame"
   ]
  },
  {
   "cell_type": "code",
   "execution_count": 15,
   "metadata": {},
   "outputs": [
    {
     "data": {
      "text/plain": [
       "Sep    57\n",
       "Oct    52\n",
       "Nov    50\n",
       "Dec    45\n",
       "Jan    46\n",
       "Feb    40\n",
       "Mar    41\n",
       "Apr    40\n",
       "May    43\n",
       "Jun    56\n",
       "dtype: int64"
      ]
     },
     "execution_count": 15,
     "metadata": {},
     "output_type": "execute_result"
    }
   ],
   "source": [
    "g = np.random.default_rng(0)\n",
    "months = 'Sep Oct Nov Dec Jan Feb Mar Apr May Jun'.split()\n",
    "\n",
    "s = Series(g.integers(40, 60, 10),\n",
    "          index=months)\n",
    "s\n",
    "\n",
    "#Exercise 1에서 만든 것처럼 Series를 40에서 60 사이의 균등분포를 이루는 임의의 정수로 채워서 생성\n",
    "#이때 샘플의 개수가 적어 균등하지 않음. 하지만 샘플의 개수가 많아질수록 균등분포를 이루는 것을 볼 수 있음\n"
   ]
  },
  {
   "cell_type": "code",
   "execution_count": 14,
   "metadata": {},
   "outputs": [
    {
     "data": {
      "text/plain": [
       "Sep    90.0\n",
       "Oct    85.0\n",
       "Nov    83.0\n",
       "Dec    78.0\n",
       "Jan    79.0\n",
       "Feb    73.0\n",
       "Mar    74.0\n",
       "Apr    73.0\n",
       "May    76.0\n",
       "Jun    89.0\n",
       "dtype: float64"
      ]
     },
     "execution_count": 14,
     "metadata": {},
     "output_type": "execute_result"
    }
   ],
   "source": [
    "s + (80 - s.mean()) #s의 평균값을 80으로 맞추는 작업\n",
    "#브로드캐스팅으로 인해 시리즈와 정수 계산이 가능함\n",
    "\n",
    "# 1 , 4 , 10 --> 15 , 15/3 = 5 \n",
    "# 평균을 20으로 맞추고 싶음. 1 + 20 - 5 = 16, 4 + 20 - 5 = 19, 10 + 20 - 5 = 25 계산 결과 16 + 19 + 25 = 60 60/3 = 20"
   ]
  },
  {
   "cell_type": "code",
   "execution_count": null,
   "metadata": {},
   "outputs": [],
   "source": []
  }
 ],
 "metadata": {
  "kernelspec": {
   "display_name": "base",
   "language": "python",
   "name": "python3"
  },
  "language_info": {
   "codemirror_mode": {
    "name": "ipython",
    "version": 3
   },
   "file_extension": ".py",
   "mimetype": "text/x-python",
   "name": "python",
   "nbconvert_exporter": "python",
   "pygments_lexer": "ipython3",
   "version": "3.13.5"
  }
 },
 "nbformat": 4,
 "nbformat_minor": 4
}
