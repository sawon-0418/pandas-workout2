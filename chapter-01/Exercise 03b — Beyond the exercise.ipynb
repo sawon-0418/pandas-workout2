{
 "cells": [
  {
   "cell_type": "code",
   "execution_count": 2,
   "metadata": {},
   "outputs": [
    {
     "data": {
      "text/plain": [
       "0    8506\n",
       "1    6369\n",
       "2    5111\n",
       "3    2697\n",
       "4    3078\n",
       "5     409\n",
       "6     752\n",
       "7     165\n",
       "8    1752\n",
       "9    8132\n",
       "dtype: int64"
      ]
     },
     "execution_count": 2,
     "metadata": {},
     "output_type": "execute_result"
    }
   ],
   "source": [
    "import numpy as np\n",
    "import pandas as pd\n",
    "from pandas import Series, DataFrame\n",
    "\n",
    "g = np.random.default_rng(0)\n",
    "s = Series(g.integers(0, 10000, 10))\n",
    "#0부터 10000까지의 (0~9999) 정수 중에서 10개를 뽑아 시리즈 객체로 생성\n",
    "s"
   ]
  },
  {
   "cell_type": "markdown",
   "metadata": {},
   "source": [
    "# Beyond 1\n",
    "\n",
    "What if the range were from 0 - 10,000? How would that change your strategy, if at all?\n",
    "\n",
    "만약 범위가 0에서 10,000까지라면 어떻게 될까요? 그게 전략에 어떤 변화를 줄까요, 아니면 그대로일까요?"
   ]
  },
  {
   "cell_type": "code",
   "execution_count": 3,
   "metadata": {
    "scrolled": true
   },
   "outputs": [
    {
     "data": {
      "text/plain": [
       "0    0\n",
       "1    6\n",
       "2    1\n",
       "3    9\n",
       "4    7\n",
       "5    0\n",
       "6    5\n",
       "7    6\n",
       "8    5\n",
       "9    3\n",
       "dtype: int8"
      ]
     },
     "execution_count": 3,
     "metadata": {},
     "output_type": "execute_result"
    }
   ],
   "source": [
    "# Our string strategy will work just fine here! If none of the numbers\n",
    "# are <10, then we can even remove the call to \"fillna\", but I think that \n",
    "# it's wiser to keep that around.\n",
    "\n",
    "s.astype(str).str.get(-2).fillna('0').astype(np.int8)\n",
    "#Exercise 3에서 배운 방법으로 2번째 자리 수 구하기.\n"
   ]
  },
  {
   "cell_type": "markdown",
   "metadata": {},
   "source": [
    "# Beyond 2\n",
    "\n",
    "Given a range from 0 to 10,000, what's the smallest `dtype` we could use for our integers?\n",
    "\n",
    "범위가 0에서 10,000까지라고 할 때, 정수를 저장하기 위해 사용할 수 있는 가장 작은 dtype은 무엇일까요?"
   ]
  },
  {
   "cell_type": "code",
   "execution_count": 4,
   "metadata": {},
   "outputs": [
    {
     "name": "stdout",
     "output_type": "stream",
     "text": [
      "165 8506\n"
     ]
    }
   ],
   "source": [
    "# Let's find the min and max values for our series:\n",
    "\n",
    "print(s.min(), s.max())\n",
    "#s시리즈의 값들 중 최소값과 최대값을 출력."
   ]
  },
  {
   "cell_type": "code",
   "execution_count": 5,
   "metadata": {},
   "outputs": [
    {
     "data": {
      "text/plain": [
       "0     58\n",
       "1    -31\n",
       "2     -9\n",
       "3   -119\n",
       "4      6\n",
       "5   -103\n",
       "6    -16\n",
       "7    -91\n",
       "8    -40\n",
       "9    -60\n",
       "dtype: int8"
      ]
     },
     "execution_count": 5,
     "metadata": {},
     "output_type": "execute_result"
    }
   ],
   "source": [
    "# What happens if we use int8?\n",
    "s.astype(np.int8)\n",
    "#s시리즈의 값을 int8로 변환. (값이 127을 넘어서 오버플로우 발생)"
   ]
  },
  {
   "cell_type": "code",
   "execution_count": 6,
   "metadata": {},
   "outputs": [
    {
     "data": {
      "text/plain": [
       "0     58\n",
       "1    225\n",
       "2    247\n",
       "3    137\n",
       "4      6\n",
       "5    153\n",
       "6    240\n",
       "7    165\n",
       "8    216\n",
       "9    196\n",
       "dtype: uint8"
      ]
     },
     "execution_count": 6,
     "metadata": {},
     "output_type": "execute_result"
    }
   ],
   "source": [
    "# What happens if we use uint8?\n",
    "s.astype(np.uint8)\n",
    "\n",
    "#s시리즈의 값을 uint8로 변환. (값이 255를 넘어서 오버플로우 발생)\n",
    "#uint 는 unsigned int의 약자, 음수가 없음"
   ]
  },
  {
   "cell_type": "code",
   "execution_count": 7,
   "metadata": {},
   "outputs": [
    {
     "data": {
      "text/plain": [
       "0    8506\n",
       "1    6369\n",
       "2    5111\n",
       "3    2697\n",
       "4    3078\n",
       "5     409\n",
       "6     752\n",
       "7     165\n",
       "8    1752\n",
       "9    8132\n",
       "dtype: int16"
      ]
     },
     "execution_count": 7,
     "metadata": {},
     "output_type": "execute_result"
    }
   ],
   "source": [
    "# So it seems we really need to use either np.int16 or np.uint16 to avoid problems!\n",
    "s.astype(np.int16)\n",
    "#s시리즈의 값을 int16로 변환. (값이 32767을 넘지 않으므로 오버플로우 없음)\n",
    "#2의 16승 -1 = 32767 으로 int16의 범위인 -32768 ~ 32767 사이의 값들 표현 가능\n",
    "#uint16은 0~65535 사이의 값들 표현 가능\n",
    "#8비트는 1바이트, 비트는 이진법에서 한 칸을 의미"
   ]
  },
  {
   "cell_type": "markdown",
   "metadata": {},
   "source": [
    "# Beyond 3\n",
    "\n",
    "Create a new series, with 10 floating-point values between 0 and 1,000. Find the numbers whose integer component (i.e., ignoring any fractional part) are even.\n",
    "\n",
    "0에서 1,000 사이의 부동소수점 값 10개로 이루어진 새로운 시리즈를 만드세요. 그리고 정수 부분(즉, 소수점을 제외한 부분)이 짝수인 숫자들을 찾으세요."
   ]
  },
  {
   "cell_type": "code",
   "execution_count": 8,
   "metadata": {},
   "outputs": [
    {
     "data": {
      "text/plain": [
       "0    395.634740\n",
       "1    824.844002\n",
       "2    955.784275\n",
       "3    769.038340\n",
       "4    846.343295\n",
       "5    342.647868\n",
       "6    733.680553\n",
       "7    739.814786\n",
       "8    275.467846\n",
       "9    673.896375\n",
       "dtype: float64"
      ]
     },
     "execution_count": 8,
     "metadata": {},
     "output_type": "execute_result"
    }
   ],
   "source": [
    "# First, create the series\n",
    "s = Series(np.random.rand(10) * 1000) # np.random.rand(n) -> 0~1 사이의 균등분포 난수 n개를 부동소수형으로 생성\n",
    "# 위에서 g = np.random.default_rng(0)\n",
    "# s = Series(g.integers(0, 10000, 10)) 는 g를 사용하여 0~9999 사이의 균등분포 난수 10개를 정수형으로 생성\n",
    "s"
   ]
  },
  {
   "cell_type": "code",
   "execution_count": 9,
   "metadata": {},
   "outputs": [
    {
     "data": {
      "text/plain": [
       "1    824.844002\n",
       "4    846.343295\n",
       "5    342.647868\n",
       "dtype: float64"
      ]
     },
     "execution_count": 9,
     "metadata": {},
     "output_type": "execute_result"
    }
   ],
   "source": [
    "# Get the modulus (dividing by 2) of the int version of the numbers\n",
    "# Check which results are 0, and use that as a mask index on s\n",
    "\n",
    "s[s.astype(np.int64) % 2 == 0] # 770.626319 , 350.933598 , 342.256113\n",
    "# s[s.astype(np.int8) % 2 == 0]  #값이 동일함. 이때 int64를 사용한 이유는 ? \n",
    "# int8을 하였을 때도 값이 동일한 이유는 s시리즈의 값 중 2의8승, 즉 256을 넘는 값이 존재하지만 numpy에서 자동으로 modulo 연산이 되어 오버플로우 처리되지만, 이때 짝수 홀수는 변하지 않기 때문.\n",
    "#하지만, int64로 계산하는 것이 pandas가 내부적으로 처리하는 방식과 일치하여 더 안전함.\n"
   ]
  },
  {
   "cell_type": "code",
   "execution_count": null,
   "metadata": {},
   "outputs": [],
   "source": []
  },
  {
   "cell_type": "code",
   "execution_count": null,
   "metadata": {},
   "outputs": [],
   "source": []
  }
 ],
 "metadata": {
  "kernelspec": {
   "display_name": "base",
   "language": "python",
   "name": "python3"
  },
  "language_info": {
   "codemirror_mode": {
    "name": "ipython",
    "version": 3
   },
   "file_extension": ".py",
   "mimetype": "text/x-python",
   "name": "python",
   "nbconvert_exporter": "python",
   "pygments_lexer": "ipython3",
   "version": "3.13.5"
  }
 },
 "nbformat": 4,
 "nbformat_minor": 4
}
