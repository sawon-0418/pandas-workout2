{
 "cells": [
  {
   "cell_type": "code",
   "execution_count": 10,
   "metadata": {},
   "outputs": [],
   "source": [
    "import numpy as np\n",
    "import pandas as pd\n",
    "from pandas import Series, DataFrame\n",
    "\n",
    "s = pd.read_csv('../data/taxi-passenger-count.csv', header=None).squeeze()"
   ]
  },
  {
   "cell_type": "markdown",
   "metadata": {},
   "source": [
    "# Beyond 1\n",
    "\n",
    "What are the 25%, 50% (median), and 75% quantiles for this data set? Can you guess the results before you execute the code?\n",
    "\n",
    "이 데이터셋의 **25%, 50%(중앙값), 75% 분위수(quantile)**는 얼마인가?\n",
    "코드를 실행하기 전에 결과를 예상할 수 있는가?"
   ]
  },
  {
   "cell_type": "code",
   "execution_count": 11,
   "metadata": {},
   "outputs": [
    {
     "data": {
      "text/plain": [
       "0.25    1.0\n",
       "0.50    1.0\n",
       "0.75    2.0\n",
       "Name: 0, dtype: float64"
      ]
     },
     "execution_count": 11,
     "metadata": {},
     "output_type": "execute_result"
    }
   ],
   "source": [
    "# Since 1-passenger rides are 72% of the values, we can\n",
    "# guess that the 25% and 50% marks will be 1, whereas \n",
    "# the 75% mark will be 2 or 3, depending on how common those are.\n",
    "s.quantile([.25, .50, .75])\n",
    "#1인 승객 탑승이 약 72%이므로, 1사분위수, 2사분위수(중앙값)는 1이라고 예상 가능.\n",
    "#3사분위수는 1이 72%를 차지하므로, 그 밑에 존재하는 값인 2 또는 3이 될 것이라 예상 가능. 하지만 2또는 3의 합이 3프로 보다 적다면 그 이후의 것이 될 수도 있음."
   ]
  },
  {
   "cell_type": "markdown",
   "metadata": {},
   "source": [
    "# Beyond 2\n",
    "\n",
    "What proportion of taxi rides are for 3, 4, 5, or 6 passengers?\n",
    "\n",
    "3, 4, 5, 또는 6인 탑승 승차의 비율은 얼마인가?"
   ]
  },
  {
   "cell_type": "code",
   "execution_count": 13,
   "metadata": {},
   "outputs": [
    {
     "data": {
      "text/plain": [
       "count    9999.000000\n",
       "mean        1.659466\n",
       "std         1.333306\n",
       "min         0.000000\n",
       "25%         1.000000\n",
       "50%         1.000000\n",
       "75%         2.000000\n",
       "max         6.000000\n",
       "Name: 0, dtype: float64"
      ]
     },
     "execution_count": 13,
     "metadata": {},
     "output_type": "execute_result"
    }
   ],
   "source": [
    "s.value_counts(normalize=True)[[3,4,5,6]].sum()\n",
    "#s.value_counts(normalize=True) 로 각 값의 비율을 구한 뒤, [[3,4,5,6]]로 3,4,5,6의 값들만 뽑아낸 후, .sum()으로 합산.\n",
    "s.describe()"
   ]
  },
  {
   "cell_type": "markdown",
   "metadata": {},
   "source": [
    "# Beyond 3\n",
    "\n",
    "Consider that you're in charge of vehicle licensing for New York taxis. Given these numbers, would more people benefit from smaller taxis that can take only one or two passengers, or larger taxis that can take five or six passengers?\n",
    "\n",
    "뉴욕 택시 차량 면허를 담당하고 있다고 가정할 때,\n",
    "이 숫자들을 바탕으로 한두 명만 탈 수 있는 작은 택시가 더 유리할지,\n",
    "아니면 5~6명 탈 수 있는 큰 택시가 더 유리할지를 판단해 보시오."
   ]
  },
  {
   "cell_type": "markdown",
   "metadata": {},
   "source": [
    "Given that a huge proportion of rides are for 1 or 2 passengers, licensing more small taxis would seem to match the needs.\n",
    "\n",
    "3,4,5,6인이 탑승하는 경우의 비율이 0.14%로 매우 적은 것을 확인할 수 있다. 따라서 1,2인이 탑승하는 경우가 약 0.86%로 훨씬 많다(유리하다)."
   ]
  },
  {
   "cell_type": "code",
   "execution_count": null,
   "metadata": {},
   "outputs": [],
   "source": []
  }
 ],
 "metadata": {
  "kernelspec": {
   "display_name": "base",
   "language": "python",
   "name": "python3"
  },
  "language_info": {
   "codemirror_mode": {
    "name": "ipython",
    "version": 3
   },
   "file_extension": ".py",
   "mimetype": "text/x-python",
   "name": "python",
   "nbconvert_exporter": "python",
   "pygments_lexer": "ipython3",
   "version": "3.13.5"
  }
 },
 "nbformat": 4,
 "nbformat_minor": 4
}
