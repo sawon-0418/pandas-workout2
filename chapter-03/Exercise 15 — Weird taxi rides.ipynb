{
 "cells": [
  {
   "cell_type": "code",
   "execution_count": 1,
   "metadata": {},
   "outputs": [],
   "source": [
    "import pandas as pd\n",
    "from pandas import Series, DataFrame\n",
    "\n",
    "df = pd.read_csv('../data/nyc_taxi_2019-01.csv',\n",
    "                usecols=['passenger_count', 'trip_distance',\n",
    "                         'total_amount', 'payment_type'])\n",
    "#csv는 comma separated values의 약자\n",
    "#csv파일을 읽어오며, passenger_count, trip_distance, total_amount, payment_type 컬럼만 사용\n",
    "#원래는 VendorID,tpep_pickup_datetime,tpep_dropoff_datetime,\n",
    "#passenger_count,trip_distance,RatecodeID,store_and_fwd_flag,PULocationID,\n",
    "#DOLocationID,payment_type,fare_amount,extra,mta_tax,tip_amount,tolls_amount,\n",
    "#improvement_surcharge,total_amount,congestion_surcharge 가 있음\n",
    "\n",
    "#필요한 컬럼만 가져와서 메모리와 속도 향상\n"
   ]
  },
  {
   "cell_type": "code",
   "execution_count": 2,
   "metadata": {},
   "outputs": [
    {
     "data": {
      "text/plain": [
       "np.int64(9)"
      ]
     },
     "execution_count": 2,
     "metadata": {},
     "output_type": "execute_result"
    }
   ],
   "source": [
    "# How many taxi rides had more than 8 passengers?\n",
    "df.loc[df['passenger_count'] > 8, 'passenger_count'].count()\n",
    "#passenger_count가 8보다 큰 행의 passenger_count 컬럼의 개수를 셈\n",
    "# df.shape() 데이터 개수를 세는 방법 , len(df)로도 가능\n",
    "#loc는 특정 행과 열을 선택하는 방법\n",
    "#df['passenger_count'] > 8 이 행에 대한 불리언 시리즈를 반환, 그 후 ,를 이용해 열을 선택\n",
    "#대괄호는 열에 대한 것만 사용, 하지만 loc는 행과 열 모두에 사용 가능\n",
    "\n",
    "# df.loc[df.loc[:,'passenger_count'] > 8, 'passenger_count'].count()\n",
    "#위와 동일한 코드, df.loc[:,'passenger_count']로 passenger_count 열을 선택\n",
    "\n",
    "# (df['passenger_count'] > 8).sum() #True는 1, False는 0으로 간주하여 True의 개수를 셈 = 9\n",
    "# df.loc[df['passenger_count'] > 8] #이때는 데이터프레임 반환\n",
    "# .count()를 사용하면 데이터프레임이 아닌 시리즈 반환 그 이유는 count()가 각 열에 대해 개수를 세기 때문\n",
    "# df.loc[df['passenger_count'] > 8].count(axis=1) #axis=1은 행 방향으로 계산, 각 행에 대해 개수를 셈"
   ]
  },
  {
   "cell_type": "code",
   "execution_count": 3,
   "metadata": {},
   "outputs": [
    {
     "data": {
      "text/plain": [
       "np.int64(117381)"
      ]
     },
     "execution_count": 3,
     "metadata": {},
     "output_type": "execute_result"
    }
   ],
   "source": [
    "# How many taxi rides had zero passengers?\n",
    "df.loc[\n",
    "    df['passenger_count'] == 0, 'passenger_count'\n",
    "].count()\n",
    "#passenger_count가 0인 행의 passenger_count 컬럼의 개수를 셈\n"
   ]
  },
  {
   "cell_type": "code",
   "execution_count": 4,
   "metadata": {},
   "outputs": [
    {
     "data": {
      "text/plain": [
       "np.int64(5)"
      ]
     },
     "execution_count": 4,
     "metadata": {},
     "output_type": "execute_result"
    }
   ],
   "source": [
    "# How many taxi rides were paid for in cash, and cost more than $1,000?\n",
    "df.loc[\n",
    "    (df['payment_type'] == 2) & (df['total_amount'] > 1000), \n",
    "       'passenger_count'\n",
    "].count()\n",
    "#결제 수단이 2이고, total_amount가 1000보다 큰 행의 passenger_count 컬럼의 개수를 셈\n"
   ]
  },
  {
   "cell_type": "code",
   "execution_count": 5,
   "metadata": {},
   "outputs": [
    {
     "data": {
      "text/plain": [
       "np.int64(7131)"
      ]
     },
     "execution_count": 5,
     "metadata": {},
     "output_type": "execute_result"
    }
   ],
   "source": [
    "# How many rides cost less than 0?\n",
    "df.loc[\n",
    "    df['total_amount'] < 0, \n",
    "    'total_amount'\n",
    "].count()\n",
    "\n",
    "#total_amount가 0보다 작은 행의 total_amount 컬럼의 개수를 셈\n",
    "#이상한 데이터, 환불된 경우일 수 있음"
   ]
  },
  {
   "cell_type": "code",
   "execution_count": 6,
   "metadata": {},
   "outputs": [
    {
     "data": {
      "text/plain": [
       "np.int64(411255)"
      ]
     },
     "execution_count": 6,
     "metadata": {},
     "output_type": "execute_result"
    }
   ],
   "source": [
    "# How many rides traveled a below-average distance, but cost an above-average amount?\n",
    "df.loc[((df['trip_distance'] < df['trip_distance'].mean()) &\n",
    "        (df['total_amount'] > df['total_amount'].mean())), \n",
    "       'trip_distance'].count()\n",
    "\n",
    "#trip_distance가 trip_distance 평균보다 작고, total_amount가 total_amount 평균보다 큰 행의 trip_distance 컬럼의 개수를 셈\n",
    "#길이 막히거나, 복잡한 경로를 간 경우일 수 있음"
   ]
  }
 ],
 "metadata": {
  "kernelspec": {
   "display_name": "base",
   "language": "python",
   "name": "python3"
  },
  "language_info": {
   "codemirror_mode": {
    "name": "ipython",
    "version": 3
   },
   "file_extension": ".py",
   "mimetype": "text/x-python",
   "name": "python",
   "nbconvert_exporter": "python",
   "pygments_lexer": "ipython3",
   "version": "3.13.5"
  }
 },
 "nbformat": 4,
 "nbformat_minor": 4
}
