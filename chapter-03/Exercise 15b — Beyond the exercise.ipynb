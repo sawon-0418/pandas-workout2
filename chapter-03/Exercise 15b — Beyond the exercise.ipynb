{
 "cells": [
  {
   "cell_type": "code",
   "execution_count": 25,
   "metadata": {},
   "outputs": [],
   "source": [
    "import pandas as pd\n",
    "from pandas import Series, DataFrame\n",
    "\n",
    "df = pd.read_csv('../data/nyc_taxi_2019-01.csv',\n",
    "                usecols=['passenger_count', 'trip_distance',\n",
    "                        'total_amount', 'payment_type'])"
   ]
  },
  {
   "cell_type": "markdown",
   "metadata": {},
   "source": [
    "# Beyond 1\n",
    "\n",
    "Repeat this exercise, but using the `query` method rather than a boolean index."
   ]
  },
  {
   "cell_type": "code",
   "execution_count": 26,
   "metadata": {},
   "outputs": [
    {
     "data": {
      "text/plain": [
       "np.int64(9)"
      ]
     },
     "execution_count": 26,
     "metadata": {},
     "output_type": "execute_result"
    }
   ],
   "source": [
    "# How many taxi rides had more than 8 passengers (query version)\n",
    "df.query('passenger_count > 8')['passenger_count'].count()\n",
    "#query 메소드를 이용하여 조건에 맞는 행을 필터링\n",
    "# df.query('passenger_count > 8') 여기까지하면 모든 컬럼이 다 나옴.\n",
    "# 대괄호를 통해 특정 컬럼만 선택 가능\n",
    "# ['passenger_count'] 특정 컬럼 선택\n",
    "# 그 후 count() 메소드를 이용하여 행의 개수를 셈"
   ]
  },
  {
   "cell_type": "code",
   "execution_count": 27,
   "metadata": {},
   "outputs": [
    {
     "data": {
      "text/plain": [
       "np.int64(117381)"
      ]
     },
     "execution_count": 27,
     "metadata": {},
     "output_type": "execute_result"
    }
   ],
   "source": [
    "# How many taxi rides had zero passengers (query version)\n",
    "df.query('passenger_count == 0')['passenger_count'].count()\n",
    "# passenger_count가 0인 행의 개수를 셈"
   ]
  },
  {
   "cell_type": "code",
   "execution_count": 28,
   "metadata": {},
   "outputs": [
    {
     "data": {
      "text/plain": [
       "np.int64(5)"
      ]
     },
     "execution_count": 28,
     "metadata": {},
     "output_type": "execute_result"
    }
   ],
   "source": [
    "# How many taxi rides were paid for in cash, and cost more than $1,000? (query version)\n",
    "df.query('payment_type == 2 & total_amount > 1000')['payment_type'].count()\n",
    "# payment_type이 2(현금)이고 total_amount가 1000보다 큰 행의 개수를 셈"
   ]
  },
  {
   "cell_type": "code",
   "execution_count": 29,
   "metadata": {},
   "outputs": [
    {
     "data": {
      "text/plain": [
       "np.int64(7131)"
      ]
     },
     "execution_count": 29,
     "metadata": {},
     "output_type": "execute_result"
    }
   ],
   "source": [
    "# How many rides cost less than 0? (query version)\n",
    "df.query('total_amount < 0')['total_amount'].count()\n",
    "# total_amount가 0보다 작은 total_amount열의 데이터 개수를 셈"
   ]
  },
  {
   "cell_type": "code",
   "execution_count": 30,
   "metadata": {},
   "outputs": [
    {
     "data": {
      "text/plain": [
       "np.int64(411255)"
      ]
     },
     "execution_count": 30,
     "metadata": {},
     "output_type": "execute_result"
    }
   ],
   "source": [
    "# How many rides traveled a below-average distance, but cost an above-average amount?\n",
    "# (query version)\n",
    "df.query('trip_distance < trip_distance.mean() & total_amount > total_amount.mean()')['trip_distance'].count()\n",
    "# trip_distance가 평균보다 작고 total_amount가 평균보다 큰 것들 중 trip_distance 컬럼의 데이터 개수를 셈\n"
   ]
  },
  {
   "cell_type": "markdown",
   "metadata": {},
   "source": [
    "# Beyond 2\n",
    "\n",
    "How many of the rides that cost less than 0 were indeed for either a dispute (`payment_type` of 4) or a voided trip (`payment_type` of 6)?\n",
    "\n",
    "번역: 요금이 0 미만인 승차 중에서 실제로 분쟁(payment_type = 4) 또는 취소된 여행(payment_type = 6)에 해당하는 것은 몇 건인가요?"
   ]
  },
  {
   "cell_type": "code",
   "execution_count": 31,
   "metadata": {},
   "outputs": [
    {
     "data": {
      "text/plain": [
       "np.int64(2666)"
      ]
     },
     "execution_count": 31,
     "metadata": {},
     "output_type": "execute_result"
    }
   ],
   "source": [
    "df.loc[(df['total_amount'] < 0) & \n",
    "       ((df['payment_type'] == 4) | \n",
    "        (df['payment_type'] == 6)), 'total_amount'].count()\n",
    "# total_amount가 0보다 작은, 즉 이상한 값을 가진 행들 중에서\n",
    "# payment_type이 4(분쟁) 또는 6(취소)인 행의 total_amount 컬럼의 데이터 개수를 셈\n"
   ]
  },
  {
   "cell_type": "markdown",
   "metadata": {},
   "source": [
    "# Beyond 3\n",
    "\n",
    "I stated above that most people pay for their taxi rides using a credit card. Show this, and find what percentages normally pay in cash vs. a credit card.\n",
    "\n",
    "\n",
    "번역: 앞에서 대부분의 사람이 택시 요금을 신용카드로 결제한다고 말했습니다. 이를 보여주고, 일반적으로 현금과 신용카드로 지불하는 비율이 각각 얼마인지 구하세요.\n",
    "\n"
   ]
  },
  {
   "cell_type": "code",
   "execution_count": 32,
   "metadata": {},
   "outputs": [
    {
     "data": {
      "text/plain": [
       "payment_type\n",
       "1    0.715464\n",
       "2    0.278752\n",
       "Name: proportion, dtype: float64"
      ]
     },
     "execution_count": 32,
     "metadata": {},
     "output_type": "execute_result"
    }
   ],
   "source": [
    "# 1 == credit card\n",
    "# 2 == cash\n",
    "\n",
    "df['payment_type'].value_counts(normalize=True)[[1,2]]\n",
    "#value_counts 메소드를 이용하여 payment_type 컬럼의 각 값의 빈도수를 계산하고,\n",
    "# normalize=True 옵션을 사용하여 비율로 변환\n",
    "# [[1,2]]를 통해 신용카드와 현금 결제 비율만 선택\n"
   ]
  },
  {
   "cell_type": "code",
   "execution_count": null,
   "metadata": {},
   "outputs": [],
   "source": []
  }
 ],
 "metadata": {
  "kernelspec": {
   "display_name": "base",
   "language": "python",
   "name": "python3"
  },
  "language_info": {
   "codemirror_mode": {
    "name": "ipython",
    "version": 3
   },
   "file_extension": ".py",
   "mimetype": "text/x-python",
   "name": "python",
   "nbconvert_exporter": "python",
   "pygments_lexer": "ipython3",
   "version": "3.13.5"
  }
 },
 "nbformat": 4,
 "nbformat_minor": 4
}
