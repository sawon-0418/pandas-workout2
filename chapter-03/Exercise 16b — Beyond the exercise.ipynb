{
 "cells": [
  {
   "cell_type": "code",
   "execution_count": 26,
   "metadata": {},
   "outputs": [],
   "source": [
    "import pandas as pd\n",
    "from pandas import Series, DataFrame\n",
    "\n",
    "df_2019_jul = pd.read_csv('../data/nyc_taxi_2019-07.csv',\n",
    "                usecols=['passenger_count', \n",
    "                        'total_amount', 'payment_type'])\n",
    "df_2019_jul['year'] = 2019\n",
    "\n",
    "df_2020_jul = pd.read_csv('../data/nyc_taxi_2020-07.csv',\n",
    "                usecols=['passenger_count', \n",
    "                        'total_amount', 'payment_type'])\n",
    "df_2020_jul['year'] = 2020\n",
    "\n",
    "df = pd.concat([df_2019_jul, df_2020_jul])"
   ]
  },
  {
   "cell_type": "markdown",
   "metadata": {},
   "source": [
    "# Beyond 1\n",
    "\n",
    "Use the `corr` method on `df` to find the correlations among the columns. How would you interpret these results?\n",
    "\n",
    "번역: df에 대해 corr 메서드를 사용하여 열들 간의 상관관계를 구하세요. 그 결과를 어떻게 해석하겠습니까?"
   ]
  },
  {
   "cell_type": "code",
   "execution_count": 27,
   "metadata": {},
   "outputs": [
    {
     "data": {
      "text/html": [
       "<div>\n",
       "<style scoped>\n",
       "    .dataframe tbody tr th:only-of-type {\n",
       "        vertical-align: middle;\n",
       "    }\n",
       "\n",
       "    .dataframe tbody tr th {\n",
       "        vertical-align: top;\n",
       "    }\n",
       "\n",
       "    .dataframe thead th {\n",
       "        text-align: right;\n",
       "    }\n",
       "</style>\n",
       "<table border=\"1\" class=\"dataframe\">\n",
       "  <thead>\n",
       "    <tr style=\"text-align: right;\">\n",
       "      <th></th>\n",
       "      <th>passenger_count</th>\n",
       "      <th>payment_type</th>\n",
       "      <th>total_amount</th>\n",
       "      <th>year</th>\n",
       "    </tr>\n",
       "  </thead>\n",
       "  <tbody>\n",
       "    <tr>\n",
       "      <th>passenger_count</th>\n",
       "      <td>1.000000</td>\n",
       "      <td>0.016410</td>\n",
       "      <td>0.014943</td>\n",
       "      <td>-0.049558</td>\n",
       "    </tr>\n",
       "    <tr>\n",
       "      <th>payment_type</th>\n",
       "      <td>0.016410</td>\n",
       "      <td>1.000000</td>\n",
       "      <td>-0.138561</td>\n",
       "      <td>0.029277</td>\n",
       "    </tr>\n",
       "    <tr>\n",
       "      <th>total_amount</th>\n",
       "      <td>0.014943</td>\n",
       "      <td>-0.138561</td>\n",
       "      <td>1.000000</td>\n",
       "      <td>-0.019706</td>\n",
       "    </tr>\n",
       "    <tr>\n",
       "      <th>year</th>\n",
       "      <td>-0.049558</td>\n",
       "      <td>0.029277</td>\n",
       "      <td>-0.019706</td>\n",
       "      <td>1.000000</td>\n",
       "    </tr>\n",
       "  </tbody>\n",
       "</table>\n",
       "</div>"
      ],
      "text/plain": [
       "                 passenger_count  payment_type  total_amount      year\n",
       "passenger_count         1.000000      0.016410      0.014943 -0.049558\n",
       "payment_type            0.016410      1.000000     -0.138561  0.029277\n",
       "total_amount            0.014943     -0.138561      1.000000 -0.019706\n",
       "year                   -0.049558      0.029277     -0.019706  1.000000"
      ]
     },
     "execution_count": 27,
     "metadata": {},
     "output_type": "execute_result"
    }
   ],
   "source": [
    "df.corr()"
   ]
  },
  {
   "cell_type": "markdown",
   "metadata": {},
   "source": [
    "There is no significant correlation among any of these columns. The closest that we see is between payment type and total amount — but even there, it's an extremely small, negative correlation. \n",
    "딱히 이 컬럼들 사이에서 명확한 상관관계는 보여지지 않음. 그나마 큰 상관계수가 -0.138561이다. 하지만 이마저도 극히 작은 값이다.\n",
    "\n",
    "+ 결제 유형은 범주형인데, 1이 카드, 2가 현금이라면 \n",
    "양의 상관이면 요금이 높을수록 현금 사용이 늘어난다는 뜻\n",
    "음의 상관이면 요금이 높을수록 현금결제를 덜 한다는 뜻\n",
    "실제로 음의 상관이 나온것을 보아 상식과도 부합하지만, 상관계수의 크기가 매우 미약하다.\n",
    "\n",
    "\n",
    "(The payment type is actually categorical, so saying that there's a numeric correlation is a bit weird in any event. But given that 1 is credit and 2 is cash, a positive correlation would mean that a higher fare would be more likely to use cash. A negative correlation thus means that a higher fare is *less* likely to be paid in cash, which matches our common sense. But again, the correlation is extremely weak.)"
   ]
  },
  {
   "cell_type": "markdown",
   "metadata": {},
   "source": [
    "# Beyond 2\n",
    "\n",
    "Show, with a single command, the difference in descriptive statistics for `total_amount` beween 2019 and 2020. Round values to use no more than 2 digits after the decimal point.\n",
    "\n",
    "번역: 2019년과 2020년 사이의 total_amount 기술 통계(descriptive statistics) 차이를 단일 명령으로 보여주세요. 값은 소수 둘째 자리까지만 반올림하세요."
   ]
  },
  {
   "cell_type": "code",
   "execution_count": 28,
   "metadata": {
    "scrolled": true
   },
   "outputs": [
    {
     "data": {
      "text/plain": [
       "count   -5510007.00\n",
       "mean          -0.98\n",
       "std           -0.75\n",
       "min           53.20\n",
       "25%           -0.50\n",
       "50%           -0.60\n",
       "75%           -0.75\n",
       "max        -4672.45\n",
       "Name: total_amount, dtype: float64"
      ]
     },
     "execution_count": 28,
     "metadata": {},
     "output_type": "execute_result"
    }
   ],
   "source": [
    "(\n",
    "    df.loc[df['year'] == 2020, 'total_amount'].describe().round(2) - \n",
    "    df.loc[df['year'] == 2019, 'total_amount'].describe().round(2)\n",
    ")\n",
    "# 2020년 데이터 중 total_amount 열을 선택, describe() 메서드로 요약 통계량 계산 후 \n",
    "# round 메서드로 소수점 둘째 자리까지 반올림\n",
    "# 위처럼 2019년 데이터도 계산 후 빼기 연산 수행\n",
    "# 2020년과 2019년의 요약 통계량 차이 계산\n"
   ]
  },
  {
   "cell_type": "markdown",
   "metadata": {},
   "source": [
    "# Beyond 3\n",
    "\n",
    "If we assume that zero-passenger trips are for delivering packages, how were those affected during the pandemic? Show the proportion of such trips in 2019 vs. 2020.\n",
    "\n",
    "번역: 승객 수가 0인 운행이 소포 배송이라고 가정한다면, 팬데믹 동안 그것들은 어떻게 영향을 받았나요? 2019년과 2020년의 해당 운행 비율을 보여주세요."
   ]
  },
  {
   "cell_type": "code",
   "execution_count": 29,
   "metadata": {},
   "outputs": [
    {
     "data": {
      "text/plain": [
       "np.float64(0.018622599363335383)"
      ]
     },
     "execution_count": 29,
     "metadata": {},
     "output_type": "execute_result"
    }
   ],
   "source": [
    "df.loc[(df['year'] == 2019) & \n",
    "       (df['passenger_count'] == 0), 'passenger_count'].count() / df.loc[(df['year']== 2019),'passenger_count'].count()"
   ]
  },
  {
   "cell_type": "code",
   "execution_count": 30,
   "metadata": {},
   "outputs": [
    {
     "data": {
      "text/plain": [
       "np.float64(0.026446482682882185)"
      ]
     },
     "execution_count": 30,
     "metadata": {},
     "output_type": "execute_result"
    }
   ],
   "source": [
    "df.loc[(df['year'] == 2020) & \n",
    "       (df['passenger_count'] == 0), 'passenger_count'].count() / df.loc[(df['year']== 2020),'passenger_count'].count()       "
   ]
  },
  {
   "cell_type": "markdown",
   "metadata": {},
   "source": [
    "~~Turns out that the proportion of zero-person taxi rides shrank as well, from about 1.6% in 2019 to 0.2% in 2020. Honestly, I expected it to be higher during the pandemic!~~\n",
    "\n",
    "\n",
    "코드가 잘못 작성되어 있어 고친 코드를 실행한 결과\n",
    "예상한 대로 팬데믹기간에 탑승객 0명 즉 택배 운송비율이 더 증가한 것을 확인할 수 있음"
   ]
  }
 ],
 "metadata": {
  "kernelspec": {
   "display_name": "base",
   "language": "python",
   "name": "python3"
  },
  "language_info": {
   "codemirror_mode": {
    "name": "ipython",
    "version": 3
   },
   "file_extension": ".py",
   "mimetype": "text/x-python",
   "name": "python",
   "nbconvert_exporter": "python",
   "pygments_lexer": "ipython3",
   "version": "3.13.5"
  }
 },
 "nbformat": 4,
 "nbformat_minor": 4
}
