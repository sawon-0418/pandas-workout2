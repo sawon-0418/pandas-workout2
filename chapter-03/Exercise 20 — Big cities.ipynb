{
 "cells": [
  {
   "cell_type": "code",
   "execution_count": 13,
   "metadata": {},
   "outputs": [],
   "source": [
    "import pandas as pd\n",
    "from pandas import Series, DataFrame\n",
    "\n",
    "filename = '../data/cities.json'\n",
    "df = pd.read_json(filename)\n",
    "# filename = '../data/cities.json' 으로 지정된 JSON 파일을 불러온다\n",
    "# pd.read_json() 함수를 사용하여 JSON 파일을 DataFrame으로 읽어온다"
   ]
  },
  {
   "cell_type": "code",
   "execution_count": 14,
   "metadata": {},
   "outputs": [
    {
     "data": {
      "text/plain": [
       "mean    131132.443\n",
       "50%      68207.000\n",
       "Name: population, dtype: float64"
      ]
     },
     "execution_count": 14,
     "metadata": {},
     "output_type": "execute_result"
    }
   ],
   "source": [
    "# What are the mean and median populations for these 1,000 largest cities?\n",
    "# What does that tell us?\n",
    "\n",
    "# 번역:\n",
    "# 이 상위 1,000개 대도시의 평균(population mean)과 중앙값(population median)은 얼마인가요?\n",
    "# 그 결과는 우리에게 무엇을 말해주나요?\n",
    "\n",
    "\n",
    "df['population'].describe()[['mean', '50%']]\n",
    "#describe() 메서드를 사용하여 'population' 열의 통계 요약을 생성한다\n",
    "# ['mean', '50%']를 사용하여 평균과 중앙값을 선택한다"
   ]
  },
  {
   "cell_type": "code",
   "execution_count": 15,
   "metadata": {},
   "outputs": [
    {
     "data": {
      "text/plain": [
       "mean    87027.387368\n",
       "50%     65796.000000\n",
       "Name: population, dtype: float64"
      ]
     },
     "execution_count": 15,
     "metadata": {},
     "output_type": "execute_result"
    }
   ],
   "source": [
    "# Along these lines: If we remove the 50 most populous cities, \n",
    "# what happens to the mean population?  What happens to the median?\n",
    "\n",
    "# 번역: 이와 비슷하게, 가장 인구가 많은 상위 50개 도시를 제거하면 평균 인구는 어떻게 변하고, 중앙값은 어떻게 변하나요?\n",
    "\n",
    "df.loc[50:, 'population'].describe()[['mean', '50%']]\n",
    "# 상위 51개 도시부터 끝까지의 'population' 열을 선택한다\n",
    "# describe() 메서드를 사용하여 통계 요약을 생성하고 평균과 중앙값을 선택한다"
   ]
  },
  {
   "cell_type": "code",
   "execution_count": 16,
   "metadata": {},
   "outputs": [
    {
     "data": {
      "text/html": [
       "<div>\n",
       "<style scoped>\n",
       "    .dataframe tbody tr th:only-of-type {\n",
       "        vertical-align: middle;\n",
       "    }\n",
       "\n",
       "    .dataframe tbody tr th {\n",
       "        vertical-align: top;\n",
       "    }\n",
       "\n",
       "    .dataframe thead th {\n",
       "        text-align: right;\n",
       "    }\n",
       "</style>\n",
       "<table border=\"1\" class=\"dataframe\">\n",
       "  <thead>\n",
       "    <tr style=\"text-align: right;\">\n",
       "      <th></th>\n",
       "      <th>city</th>\n",
       "      <th>state</th>\n",
       "      <th>rank</th>\n",
       "    </tr>\n",
       "  </thead>\n",
       "  <tbody>\n",
       "    <tr>\n",
       "      <th>62</th>\n",
       "      <td>Anchorage</td>\n",
       "      <td>Alaska</td>\n",
       "      <td>63</td>\n",
       "    </tr>\n",
       "  </tbody>\n",
       "</table>\n",
       "</div>"
      ],
      "text/plain": [
       "         city   state  rank\n",
       "62  Anchorage  Alaska    63"
      ]
     },
     "execution_count": 16,
     "metadata": {},
     "output_type": "execute_result"
    }
   ],
   "source": [
    "# What is the northernmost city, and where does it rank?\n",
    "#가장 북쪽에 있는 도시는 무엇이며, 그 도시는 순위에서 몇 위인가요?\n",
    "\n",
    "df.loc[df['latitude'] == df['latitude'].max(), ['city', 'state', 'rank']]\n",
    "# 'latitude' 열에서 최대값을 가진 행을 선택한다\n",
    "# latitude 는 위도. (+ 북반구, - 남반구)\n",
    "# 해당 행에서 'city', 'state', 'rank' 열을 선택한다"
   ]
  },
  {
   "cell_type": "code",
   "execution_count": 17,
   "metadata": {},
   "outputs": [
    {
     "data": {
      "text/plain": [
       "state\n",
       "California    212\n",
       "Name: count, dtype: int64"
      ]
     },
     "execution_count": 17,
     "metadata": {},
     "output_type": "execute_result"
    }
   ],
   "source": [
    "# Which state has the largest number of cities in this list?\n",
    "#이 목록에서 가장 많은 도시를 보유한 주는 어느 주인가요?\n",
    "df['state'].value_counts().head(1)"
   ]
  },
  {
   "cell_type": "code",
   "execution_count": 18,
   "metadata": {},
   "outputs": [
    {
     "data": {
      "text/plain": [
       "state\n",
       "Alaska                  1\n",
       "Hawaii                  1\n",
       "District of Columbia    1\n",
       "Maine                   1\n",
       "Vermont                 1\n",
       "Name: count, dtype: int64"
      ]
     },
     "execution_count": 18,
     "metadata": {},
     "output_type": "execute_result"
    }
   ],
   "source": [
    "# Which state has the smallest number of cities in this list?\n",
    "#이 목록에서 가장 적은 수의 도시를 가진 주는 어느 주인가요?\n",
    "\n",
    "df['state'].value_counts().tail(5)"
   ]
  },
  {
   "cell_type": "code",
   "execution_count": null,
   "metadata": {},
   "outputs": [],
   "source": []
  }
 ],
 "metadata": {
  "kernelspec": {
   "display_name": "base",
   "language": "python",
   "name": "python3"
  },
  "language_info": {
   "codemirror_mode": {
    "name": "ipython",
    "version": 3
   },
   "file_extension": ".py",
   "mimetype": "text/x-python",
   "name": "python",
   "nbconvert_exporter": "python",
   "pygments_lexer": "ipython3",
   "version": "3.13.5"
  }
 },
 "nbformat": 4,
 "nbformat_minor": 4
}
