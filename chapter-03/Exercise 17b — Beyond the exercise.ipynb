{
 "cells": [
  {
   "cell_type": "code",
   "execution_count": 127,
   "metadata": {},
   "outputs": [],
   "source": [
    "import numpy as np\n",
    "import pandas as pd\n",
    "from pandas import Series, DataFrame"
   ]
  },
  {
   "cell_type": "markdown",
   "metadata": {},
   "source": [
    "# Beyond 1\n",
    "\n",
    "Create a data frame from four other columns (`VendorID`, `trip_distance`, `tip_amount`, and `total_amount`), specifying the `dtype` for each. What types are most appropriate? Can you use them directly, or must you first clean the data?\n",
    "\n",
    "\n",
    "번역: 네 개의 다른 열(VendorID, trip_distance, tip_amount, total_amount)로부터 데이터프레임을 생성하고, 각 열에 대해 dtype을 지정하세요. 어떤 자료형이 가장 적절한가요? 바로 사용할 수 있나요, 아니면 먼저 데이터를 정리(클리닝)해야 하나요?"
   ]
  },
  {
   "cell_type": "code",
   "execution_count": 128,
   "metadata": {
    "scrolled": true
   },
   "outputs": [
    {
     "name": "stderr",
     "output_type": "stream",
     "text": [
      "/var/folders/d9/j0qdg7qj62lcz91ls2jr2rnm0000gn/T/ipykernel_76314/1820522671.py:9: FutureWarning: The behavior of DataFrame concatenation with empty or all-NA entries is deprecated. In a future version, this will no longer exclude empty or all-NA columns when determining the result dtypes. To retain the old behavior, exclude the relevant entries before the concat operation.\n",
      "  df.loc['VendorID'] = df['VendorID'].astype(np.int8)\n"
     ]
    }
   ],
   "source": [
    "df = pd.read_csv('../data/nyc_taxi_2020-01.csv',\n",
    "                usecols=['VendorID', 'trip_distance', 'tip_amount', 'total_amount'],\n",
    "                dtype={'VendorID':np.float32,\n",
    "                       'trip_distance':np.float32, \n",
    "                       'tip_amount':np.float32,\n",
    "                       'total_amount':np.float32})\n",
    "\n",
    "df = df.dropna().copy()\n",
    "df.loc['VendorID'] = df['VendorID'].astype(np.int8)\n",
    "#df.loc['VendorID'] = df['VendorID'].astype(np.int8)은 \n",
    "#새로운 행을 추가하는 것으로, 데이터 타입을 변경하고 싶으면 df['VendorID'] = df['VendorID'].astype(np.int8)로 해야 한다.\n",
    "# df 를 실행해보면 VendorID의 값들이 여전히 float형이며, 제일 마지막 행에 VendorID라는 인덱스를 가진 행이 추가된 것을 확인할 수 있다.\n",
    "\n"
   ]
  },
  {
   "cell_type": "markdown",
   "metadata": {},
   "source": [
    "# Beyond 2\n",
    "\n",
    "Instead of removing `NaN` values from the `VendorID` column, set it to a new value, 3. How does that affect your specifications and cleaning of the data?\n",
    "\n",
    "번역: VendorID 열에서 NaN 값을 제거하는 대신, 새로운 값 3으로 설정하세요. 그렇게 하면 데이터의 dtype 지정과 정리(클리닝)에 어떤 영향이 있나요?"
   ]
  },
  {
   "cell_type": "code",
   "execution_count": 129,
   "metadata": {},
   "outputs": [
    {
     "data": {
      "text/html": [
       "<div>\n",
       "<style scoped>\n",
       "    .dataframe tbody tr th:only-of-type {\n",
       "        vertical-align: middle;\n",
       "    }\n",
       "\n",
       "    .dataframe tbody tr th {\n",
       "        vertical-align: top;\n",
       "    }\n",
       "\n",
       "    .dataframe thead th {\n",
       "        text-align: right;\n",
       "    }\n",
       "</style>\n",
       "<table border=\"1\" class=\"dataframe\">\n",
       "  <thead>\n",
       "    <tr style=\"text-align: right;\">\n",
       "      <th></th>\n",
       "      <th>VendorID</th>\n",
       "      <th>trip_distance</th>\n",
       "      <th>tip_amount</th>\n",
       "      <th>total_amount</th>\n",
       "    </tr>\n",
       "  </thead>\n",
       "  <tbody>\n",
       "    <tr>\n",
       "      <th>0</th>\n",
       "      <td>1</td>\n",
       "      <td>1.200000</td>\n",
       "      <td>1.47</td>\n",
       "      <td>11.270000</td>\n",
       "    </tr>\n",
       "    <tr>\n",
       "      <th>1</th>\n",
       "      <td>1</td>\n",
       "      <td>1.200000</td>\n",
       "      <td>1.50</td>\n",
       "      <td>12.300000</td>\n",
       "    </tr>\n",
       "    <tr>\n",
       "      <th>2</th>\n",
       "      <td>1</td>\n",
       "      <td>0.600000</td>\n",
       "      <td>1.00</td>\n",
       "      <td>10.800000</td>\n",
       "    </tr>\n",
       "    <tr>\n",
       "      <th>3</th>\n",
       "      <td>1</td>\n",
       "      <td>0.800000</td>\n",
       "      <td>1.36</td>\n",
       "      <td>8.160000</td>\n",
       "    </tr>\n",
       "    <tr>\n",
       "      <th>4</th>\n",
       "      <td>2</td>\n",
       "      <td>0.000000</td>\n",
       "      <td>0.00</td>\n",
       "      <td>4.800000</td>\n",
       "    </tr>\n",
       "    <tr>\n",
       "      <th>...</th>\n",
       "      <td>...</td>\n",
       "      <td>...</td>\n",
       "      <td>...</td>\n",
       "      <td>...</td>\n",
       "    </tr>\n",
       "    <tr>\n",
       "      <th>6405003</th>\n",
       "      <td>3</td>\n",
       "      <td>3.240000</td>\n",
       "      <td>0.00</td>\n",
       "      <td>21.139999</td>\n",
       "    </tr>\n",
       "    <tr>\n",
       "      <th>6405004</th>\n",
       "      <td>3</td>\n",
       "      <td>22.129999</td>\n",
       "      <td>0.00</td>\n",
       "      <td>62.459999</td>\n",
       "    </tr>\n",
       "    <tr>\n",
       "      <th>6405005</th>\n",
       "      <td>3</td>\n",
       "      <td>10.510000</td>\n",
       "      <td>0.00</td>\n",
       "      <td>51.900002</td>\n",
       "    </tr>\n",
       "    <tr>\n",
       "      <th>6405006</th>\n",
       "      <td>3</td>\n",
       "      <td>5.490000</td>\n",
       "      <td>0.00</td>\n",
       "      <td>30.219999</td>\n",
       "    </tr>\n",
       "    <tr>\n",
       "      <th>6405007</th>\n",
       "      <td>3</td>\n",
       "      <td>11.600000</td>\n",
       "      <td>0.00</td>\n",
       "      <td>58.110001</td>\n",
       "    </tr>\n",
       "  </tbody>\n",
       "</table>\n",
       "<p>6405008 rows × 4 columns</p>\n",
       "</div>"
      ],
      "text/plain": [
       "         VendorID  trip_distance  tip_amount  total_amount\n",
       "0               1       1.200000        1.47     11.270000\n",
       "1               1       1.200000        1.50     12.300000\n",
       "2               1       0.600000        1.00     10.800000\n",
       "3               1       0.800000        1.36      8.160000\n",
       "4               2       0.000000        0.00      4.800000\n",
       "...           ...            ...         ...           ...\n",
       "6405003         3       3.240000        0.00     21.139999\n",
       "6405004         3      22.129999        0.00     62.459999\n",
       "6405005         3      10.510000        0.00     51.900002\n",
       "6405006         3       5.490000        0.00     30.219999\n",
       "6405007         3      11.600000        0.00     58.110001\n",
       "\n",
       "[6405008 rows x 4 columns]"
      ]
     },
     "execution_count": 129,
     "metadata": {},
     "output_type": "execute_result"
    }
   ],
   "source": [
    "df = pd.read_csv('../data/nyc_taxi_2020-01.csv',\n",
    "            usecols=['VendorID', 'trip_distance', 'tip_amount', 'total_amount'],\n",
    "            dtype={'VendorID':np.float32, \n",
    "                   'trip_distance':np.float32,\n",
    "                   'tip_amount':np.float32,\n",
    "                  'total_amount':np.float32}\n",
    "                  )\n",
    "\n",
    "df['VendorID'] = df['VendorID'].fillna(3)\n",
    "df['VendorID'] = df['VendorID'].astype(np.int8)\n",
    "\n",
    "df"
   ]
  },
  {
   "cell_type": "markdown",
   "metadata": {},
   "source": [
    "# Beyond 3\n",
    "\n",
    "We'll talk more about this in future chapters, but the `memory_usage` method allows you to see how much memory is being used by each column in a data frame. It returns a series of integers, in which the index lists the columns and the values represent the memory used by each column. Compare the memory used by the data frame with `float32` (which you've already used) and when you use `float64` instead for the final three columns.\n",
    "\n",
    "\n",
    "번역:\n",
    "앞으로 더 다루겠지만, memory_usage 메서드는 데이터프레임의 각 열이 얼마나 많은 메모리를 사용하는지 보여줍니다. 이 메서드는 인덱스에 열 이름이, 값에는 각 열이 사용하는 메모리 크기가 담긴 정수 Series를 반환합니다. 이미 사용한 float32을 썼을 때와, 마지막 세 열을 대신 float64로 사용했을 때 데이터프레임의 메모리 사용량을 비교하세요.\n",
    "\n",
    "\n",
    "# float16을 쓴 적이 없음. 따라서 float32 와 float64를 비교하는 것으로 보임.\n",
    "## 아래 코드들 모두 수정"
   ]
  },
  {
   "cell_type": "code",
   "execution_count": 130,
   "metadata": {
    "scrolled": true
   },
   "outputs": [
    {
     "data": {
      "text/plain": [
       "np.int64(83265236)"
      ]
     },
     "execution_count": 130,
     "metadata": {},
     "output_type": "execute_result"
    }
   ],
   "source": [
    "# Memory usage with float32\n",
    "df.memory_usage().sum()  "
   ]
  },
  {
   "cell_type": "code",
   "execution_count": 131,
   "metadata": {},
   "outputs": [],
   "source": [
    "df = pd.read_csv('../data/nyc_taxi_2020-01.csv',\n",
    "            usecols=['VendorID', 'trip_distance', 'tip_amount', 'total_amount'],\n",
    "            dtype={'VendorID':np.float64, \n",
    "                   'trip_distance':np.float64,\n",
    "                   'tip_amount':np.float64,\n",
    "                  'total_amount':np.float64})\n",
    "\n",
    "df['VendorID'] = df['VendorID'].fillna(3)\n",
    "df['VendorID'] = df['VendorID'].astype(np.int8)"
   ]
  },
  {
   "cell_type": "code",
   "execution_count": 132,
   "metadata": {
    "scrolled": true
   },
   "outputs": [
    {
     "data": {
      "text/plain": [
       "np.int64(160125332)"
      ]
     },
     "execution_count": 132,
     "metadata": {},
     "output_type": "execute_result"
    }
   ],
   "source": [
    "# Memory usage with float64\n",
    "df.memory_usage().sum()"
   ]
  },
  {
   "cell_type": "code",
   "execution_count": 133,
   "metadata": {},
   "outputs": [
    {
     "data": {
      "text/plain": [
       "1.9230754116880182"
      ]
     },
     "execution_count": 133,
     "metadata": {},
     "output_type": "execute_result"
    }
   ],
   "source": [
    "# float64 uses about 1.9x the memory as float32!\n",
    "160125328 / 83265236"
   ]
  }
 ],
 "metadata": {
  "kernelspec": {
   "display_name": "base",
   "language": "python",
   "name": "python3"
  },
  "language_info": {
   "codemirror_mode": {
    "name": "ipython",
    "version": 3
   },
   "file_extension": ".py",
   "mimetype": "text/x-python",
   "name": "python",
   "nbconvert_exporter": "python",
   "pygments_lexer": "ipython3",
   "version": "3.13.5"
  }
 },
 "nbformat": 4,
 "nbformat_minor": 4
}
