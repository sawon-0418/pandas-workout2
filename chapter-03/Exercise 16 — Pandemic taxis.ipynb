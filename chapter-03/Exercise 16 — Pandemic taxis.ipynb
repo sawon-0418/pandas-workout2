{
 "cells": [
  {
   "cell_type": "code",
   "execution_count": 75,
   "metadata": {},
   "outputs": [
    {
     "data": {
      "text/html": [
       "<div>\n",
       "<style scoped>\n",
       "    .dataframe tbody tr th:only-of-type {\n",
       "        vertical-align: middle;\n",
       "    }\n",
       "\n",
       "    .dataframe tbody tr th {\n",
       "        vertical-align: top;\n",
       "    }\n",
       "\n",
       "    .dataframe thead th {\n",
       "        text-align: right;\n",
       "    }\n",
       "</style>\n",
       "<table border=\"1\" class=\"dataframe\">\n",
       "  <thead>\n",
       "    <tr style=\"text-align: right;\">\n",
       "      <th></th>\n",
       "      <th>passenger_count</th>\n",
       "      <th>payment_type</th>\n",
       "      <th>total_amount</th>\n",
       "      <th>year</th>\n",
       "    </tr>\n",
       "  </thead>\n",
       "  <tbody>\n",
       "    <tr>\n",
       "      <th>0</th>\n",
       "      <td>1.0</td>\n",
       "      <td>1.0</td>\n",
       "      <td>4.94</td>\n",
       "      <td>2019</td>\n",
       "    </tr>\n",
       "    <tr>\n",
       "      <th>1</th>\n",
       "      <td>1.0</td>\n",
       "      <td>2.0</td>\n",
       "      <td>20.30</td>\n",
       "      <td>2019</td>\n",
       "    </tr>\n",
       "    <tr>\n",
       "      <th>2</th>\n",
       "      <td>1.0</td>\n",
       "      <td>1.0</td>\n",
       "      <td>70.67</td>\n",
       "      <td>2019</td>\n",
       "    </tr>\n",
       "    <tr>\n",
       "      <th>3</th>\n",
       "      <td>1.0</td>\n",
       "      <td>1.0</td>\n",
       "      <td>66.36</td>\n",
       "      <td>2019</td>\n",
       "    </tr>\n",
       "    <tr>\n",
       "      <th>4</th>\n",
       "      <td>0.0</td>\n",
       "      <td>1.0</td>\n",
       "      <td>15.30</td>\n",
       "      <td>2019</td>\n",
       "    </tr>\n",
       "    <tr>\n",
       "      <th>...</th>\n",
       "      <td>...</td>\n",
       "      <td>...</td>\n",
       "      <td>...</td>\n",
       "      <td>...</td>\n",
       "    </tr>\n",
       "    <tr>\n",
       "      <th>7110826</th>\n",
       "      <td>NaN</td>\n",
       "      <td>NaN</td>\n",
       "      <td>83.50</td>\n",
       "      <td>2020</td>\n",
       "    </tr>\n",
       "    <tr>\n",
       "      <th>7110827</th>\n",
       "      <td>NaN</td>\n",
       "      <td>NaN</td>\n",
       "      <td>19.78</td>\n",
       "      <td>2020</td>\n",
       "    </tr>\n",
       "    <tr>\n",
       "      <th>7110828</th>\n",
       "      <td>NaN</td>\n",
       "      <td>NaN</td>\n",
       "      <td>38.45</td>\n",
       "      <td>2020</td>\n",
       "    </tr>\n",
       "    <tr>\n",
       "      <th>7110829</th>\n",
       "      <td>NaN</td>\n",
       "      <td>NaN</td>\n",
       "      <td>29.77</td>\n",
       "      <td>2020</td>\n",
       "    </tr>\n",
       "    <tr>\n",
       "      <th>7110830</th>\n",
       "      <td>NaN</td>\n",
       "      <td>NaN</td>\n",
       "      <td>51.90</td>\n",
       "      <td>2020</td>\n",
       "    </tr>\n",
       "  </tbody>\n",
       "</table>\n",
       "<p>7110831 rows × 4 columns</p>\n",
       "</div>"
      ],
      "text/plain": [
       "         passenger_count  payment_type  total_amount  year\n",
       "0                    1.0           1.0          4.94  2019\n",
       "1                    1.0           2.0         20.30  2019\n",
       "2                    1.0           1.0         70.67  2019\n",
       "3                    1.0           1.0         66.36  2019\n",
       "4                    0.0           1.0         15.30  2019\n",
       "...                  ...           ...           ...   ...\n",
       "7110826              NaN           NaN         83.50  2020\n",
       "7110827              NaN           NaN         19.78  2020\n",
       "7110828              NaN           NaN         38.45  2020\n",
       "7110829              NaN           NaN         29.77  2020\n",
       "7110830              NaN           NaN         51.90  2020\n",
       "\n",
       "[7110831 rows x 4 columns]"
      ]
     },
     "execution_count": 75,
     "metadata": {},
     "output_type": "execute_result"
    }
   ],
   "source": [
    "import pandas as pd\n",
    "from pandas import Series, DataFrame\n",
    "\n",
    "df_2019_jul = pd.read_csv('../data/nyc_taxi_2019-07.csv',\n",
    "                usecols=['passenger_count', \n",
    "                        'total_amount', 'payment_type'])\n",
    "df_2019_jul['year'] = 2019\n",
    "# df_2019_jul['year'] = [2019] * len(df_2019_jul) \n",
    "# 리스트 곱하기 연산으로 2019가 반복된 리스트를 만들어 year 칼럼에 넣는 방법\n",
    "\n",
    "df_2020_jul = pd.read_csv('../data/nyc_taxi_2020-07.csv',\n",
    "                usecols=['passenger_count', \n",
    "                        'total_amount', 'payment_type'])\n",
    "df_2020_jul['year'] = 2020\n",
    "\n",
    "df = pd.concat([df_2019_jul, df_2020_jul])\n",
    "#concat 함수로 두 데이터프레임을 하나로 합친다.\n",
    "#이때, 기본적으로 행 방향으로 합쳐진다. (axis=0)\n",
    "#따라서 같은 인덱스를 가진 행이 존재할 수 있다.\n",
    "#또한, axis=1로 지정하면 열 방향으로 합칠 수 있다.\n",
    "#이때도, 같은 컬럼을 가진 열이 존재할 수 있다.\n",
    "\n",
    "\n",
    "# pd.concat(objs, axis=0, join='outer', ignore_index=False)\n",
    "# objs: 리스트나 딕셔너리 형태의 DataFrame/Series 모음\n",
    "# axis=0: 행 기준(세로 방향)으로 연결 → 기본값\n",
    "# axis=1: 열 기준(가로 방향)으로 연결\n",
    "# join='outer': 모든 인덱스를 합침 (없는 값은 NaN)\n",
    "# join='inner': 공통된 인덱스만 유지\n",
    "# ignore_index=True: 새로 인덱스를 다시 매김\n",
    "\n",
    "df = pd.concat([df_2019_jul, df_2020_jul],ignore_index=True)\n",
    "df #ignore_index=True 옵션을 주면 0부터 시작하는 새로운 인덱스가 매겨진다.\n",
    "#데이터를 행을 기준으로 합치는데, 컬럼이 둘다 동일하기에 여기서 join 옵션은 큰 의미가 없다.\n",
    "#이를 열 방향으로 하고 확인해보면\n",
    "# df = pd.concat([df_2019_jul, df_2020_jul], axis=1,join='inner')\n",
    "# df\n",
    "#pd.concat([df_2019_jul, df_2020_jul], axis=1)까지만 했을 때\n",
    "#6310419개의 행이 있다. (join='outer'가 기본값)\n",
    "#pd.concat([df_2019_jul, df_2020_jul], axis=1,join='inner')\n",
    "#join='inner' 옵션을 주면 6_310_419개의 행이 800_412개가 된다.\n",
    "#그 이유는 2020년도의 데이터가 800_412개인데, join='inner'옵션을 주면\n",
    "#공통된 인덱스만 유지하기에 2020년도의 데이터 개수로 맞춰지게 된다.\n"
   ]
  },
  {
   "cell_type": "code",
   "execution_count": 76,
   "metadata": {},
   "outputs": [
    {
     "data": {
      "text/plain": [
       "np.int64(5510007)"
      ]
     },
     "execution_count": 76,
     "metadata": {},
     "output_type": "execute_result"
    }
   ],
   "source": [
    "# How many rides were taken in 2019 vs. 2020?\n",
    "\n",
    "# 2019년에 이루어진 승차 수와 2020년에 이루어진 승차 수는 각각 얼마인가요?\n",
    "(\n",
    "    df.loc[df['year'] == 2019, 'total_amount'].count() -\n",
    "    df.loc[df['year'] == 2020, 'total_amount'].count()\n",
    ")\n",
    "#이때 'total_amount'라는 행을 선택한 이유는\n",
    "#아무 열중에 결측치가 없는 열을 선택한 것\n",
    "# df['total_amount'].isnull().sum() 이 코드는 isnull()을 이용해 결측치가 존재하는지 확인하는 코드이다.\n",
    "# False이면 False는 0으로 간주되기에 합이 0이 나오면 결측치가 없다는 의미이다.\n",
    "\n",
    "\n",
    "#5510007명만큼 탑승객수가 차이난다.\n"
   ]
  },
  {
   "cell_type": "code",
   "execution_count": 77,
   "metadata": {},
   "outputs": [
    {
     "data": {
      "text/plain": [
       "np.float64(108848979.24000001)"
      ]
     },
     "execution_count": 77,
     "metadata": {},
     "output_type": "execute_result"
    }
   ],
   "source": [
    "# How much money was collected in 2019 vs. 2020?\n",
    "(\n",
    "    df.loc[df['year'] == 2019, 'total_amount'].sum() -\n",
    "    df.loc[df['year'] == 2020, 'total_amount'].sum()\n",
    ")\n",
    "#이때는 count()메서드가 아닌, sum() 메서드를 사용해 얼마나 많은 돈을 벌었는지를 확인하는 코드\n"
   ]
  },
  {
   "cell_type": "code",
   "execution_count": 78,
   "metadata": {},
   "outputs": [
    {
     "name": "stdout",
     "output_type": "stream",
     "text": [
      "결제수단 결측치 개수  96806\n",
      "승객수 결측치 개수  96806\n"
     ]
    }
   ],
   "source": [
    "# Did the proportion of trips with more than passenger change dramatically?\n",
    "#승객수가 1명 초과인 탑승 비율이 크게 변했는가?\n",
    "df.loc[(df['year'] == 2019) & \n",
    "       (df['passenger_count'] > 1), 'passenger_count'].count() / df.loc[df['year'] == 2019, 'payment_type'].count()\n",
    "\n",
    "df.loc[(df['year'] == 2019) & (df['passenger_count'] > 1), 'passenger_count'].count()\n",
    "#2019년도 데이터 중, 승객수가 1명을 초과하는 데이터의 수를 센 뒤\n",
    "df.loc[df['year'] == 2019, 'payment_type'].count()\n",
    "#2019년도 데이터 중 payment_type 열의 데이터를 센 뒤 나눔\n",
    "\n",
    "#하지만 passenger_count가 분자이기 때문에 분모도 passenger_count의 데이터 개수로 맞춰주는 것이 맞음\n",
    "\n",
    "\n",
    "print(\"결제수단 결측치 개수 \" ,df['payment_type'].isnull().sum())\n",
    "print(\"승객수 결측치 개수 \" ,df['passenger_count'].isnull().sum())\n",
    "#결측치 개수는 동일하기에 결과에는 이상이 없음."
   ]
  },
  {
   "cell_type": "code",
   "execution_count": 79,
   "metadata": {},
   "outputs": [
    {
     "data": {
      "text/plain": [
       "np.float64(0.2061513222563435)"
      ]
     },
     "execution_count": 79,
     "metadata": {},
     "output_type": "execute_result"
    }
   ],
   "source": [
    "df.loc[(df['year'] == 2020) & \n",
    "       (df['passenger_count'] > 1), 'passenger_count'].count() / df.loc[df['year'] == 2020, 'payment_type'].count()"
   ]
  },
  {
   "cell_type": "code",
   "execution_count": 80,
   "metadata": {},
   "outputs": [
    {
     "data": {
      "text/plain": [
       "np.float64(0.2870595845428793)"
      ]
     },
     "execution_count": 80,
     "metadata": {},
     "output_type": "execute_result"
    }
   ],
   "source": [
    "# Did people use cash less in 2019 or 2020?\n",
    "df.loc[(df['year'] == 2019) & \n",
    "       (df['payment_type'] == 2), 'payment_type'].count() / df.loc[df['year'] == 2019, 'payment_type'].count()"
   ]
  },
  {
   "cell_type": "code",
   "execution_count": 81,
   "metadata": {},
   "outputs": [
    {
     "data": {
      "text/plain": [
       "np.float64(0.320558865998251)"
      ]
     },
     "execution_count": 81,
     "metadata": {},
     "output_type": "execute_result"
    }
   ],
   "source": [
    "df.loc[(df['year'] == 2020) & \n",
    "       (df['payment_type'] == 2), 'payment_type'].count() / df.loc[df['year'] == 2020, 'payment_type'].count()"
   ]
  },
  {
   "cell_type": "code",
   "execution_count": null,
   "metadata": {},
   "outputs": [],
   "source": []
  }
 ],
 "metadata": {
  "kernelspec": {
   "display_name": "base",
   "language": "python",
   "name": "python3"
  },
  "language_info": {
   "codemirror_mode": {
    "name": "ipython",
    "version": 3
   },
   "file_extension": ".py",
   "mimetype": "text/x-python",
   "name": "python",
   "nbconvert_exporter": "python",
   "pygments_lexer": "ipython3",
   "version": "3.13.5"
  }
 },
 "nbformat": 4,
 "nbformat_minor": 4
}
